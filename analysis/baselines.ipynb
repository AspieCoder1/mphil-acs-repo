{
 "cells": [
  {
   "cell_type": "markdown",
   "id": "3868e1de7d0e1056",
   "metadata": {
    "collapsed": false,
    "jupyter": {
     "outputs_hidden": false
    }
   },
   "source": [
    "# Experiment 1: Baselines\n",
    "\n",
    "WANDB tag: `exp1`"
   ]
  },
  {
   "cell_type": "code",
   "execution_count": 1,
   "id": "b48e8ef0b1c2e7aa",
   "metadata": {
    "ExecuteTime": {
     "end_time": "2024-01-26T09:53:28.409711Z",
     "start_time": "2024-01-26T09:53:27.979098Z"
    },
    "collapsed": false,
    "jupyter": {
     "outputs_hidden": false
    }
   },
   "outputs": [],
   "source": [
    "import matplotlib.pyplot as plt\n",
    "import wandb\n",
    "import pandas as pd\n",
    "import seaborn as sns\n",
    "import matplotlib.pyplot as plt\n",
    "\n",
    "sns.set_style('whitegrid')\n",
    "sns.set_context('paper')"
   ]
  },
  {
   "cell_type": "code",
   "execution_count": 2,
   "id": "42876fd375ba115",
   "metadata": {
    "ExecuteTime": {
     "end_time": "2024-01-26T09:53:28.419654Z",
     "start_time": "2024-01-26T09:53:28.409755Z"
    },
    "collapsed": false,
    "jupyter": {
     "outputs_hidden": false
    }
   },
   "outputs": [],
   "source": [
    "api = wandb.Api(api_key=\"cc080145b244f97b7db093ba0e3de5088e7ee7aa\")"
   ]
  },
  {
   "cell_type": "code",
   "execution_count": 3,
   "id": "72403e3cbb46ec30",
   "metadata": {
    "ExecuteTime": {
     "end_time": "2024-01-26T09:53:28.602938Z",
     "start_time": "2024-01-26T09:53:28.419478Z"
    },
    "collapsed": false,
    "jupyter": {
     "outputs_hidden": false
    }
   },
   "outputs": [],
   "source": [
    "runs = api.runs(path=\"acs-thesis-lb2027/gnn-baselines\", include_sweeps=False, filters={\"$and\": [{\"tags\": {\"$in\": [\"exp1\"]}}, {\"state\": \"finished\"}, {\"config.model\": {\"$ne\":\"HGT\"}}]})"
   ]
  },
  {
   "cell_type": "code",
   "execution_count": 4,
   "id": "9beee5691793f352",
   "metadata": {
    "ExecuteTime": {
     "end_time": "2024-01-26T09:53:30.981148Z",
     "start_time": "2024-01-26T09:53:28.604704Z"
    },
    "collapsed": false,
    "jupyter": {
     "outputs_hidden": false
    }
   },
   "outputs": [],
   "source": [
    "rows = []\n",
    "\n",
    "for run in runs:\n",
    "\trow = {\n",
    "\t\t\"model\": run.config[\"model\"],\n",
    "\t\t\"dataset\": run.config[\"dataset\"],\n",
    "\t\t\"test_accuracy\": run.summary[\"test/accuracy\"]\n",
    "\t}\n",
    "\t\n",
    "\trows.append(row)"
   ]
  },
  {
   "cell_type": "code",
   "execution_count": 5,
   "id": "a441f2c72dd65929",
   "metadata": {
    "ExecuteTime": {
     "end_time": "2024-01-26T09:53:30.988808Z",
     "start_time": "2024-01-26T09:53:30.981949Z"
    },
    "collapsed": false,
    "jupyter": {
     "outputs_hidden": false
    }
   },
   "outputs": [],
   "source": [
    "df = pd.DataFrame(rows)"
   ]
  },
  {
   "cell_type": "code",
   "execution_count": 6,
   "id": "9aefdce59482237a",
   "metadata": {
    "ExecuteTime": {
     "end_time": "2024-01-26T09:53:30.997600Z",
     "start_time": "2024-01-26T09:53:30.988001Z"
    },
    "collapsed": false,
    "jupyter": {
     "outputs_hidden": false
    }
   },
   "outputs": [
    {
     "data": {
      "text/html": [
       "<div>\n",
       "<style scoped>\n",
       "    .dataframe tbody tr th:only-of-type {\n",
       "        vertical-align: middle;\n",
       "    }\n",
       "\n",
       "    .dataframe tbody tr th {\n",
       "        vertical-align: top;\n",
       "    }\n",
       "\n",
       "    .dataframe thead th {\n",
       "        text-align: right;\n",
       "    }\n",
       "</style>\n",
       "<table border=\"1\" class=\"dataframe\">\n",
       "  <thead>\n",
       "    <tr style=\"text-align: right;\">\n",
       "      <th></th>\n",
       "      <th>model</th>\n",
       "      <th>dataset</th>\n",
       "      <th>test_accuracy</th>\n",
       "    </tr>\n",
       "  </thead>\n",
       "  <tbody>\n",
       "    <tr>\n",
       "      <th>0</th>\n",
       "      <td>GAT</td>\n",
       "      <td>IMDB</td>\n",
       "      <td>0.7648</td>\n",
       "    </tr>\n",
       "    <tr>\n",
       "      <th>1</th>\n",
       "      <td>GAT</td>\n",
       "      <td>IMDB</td>\n",
       "      <td>0.7964</td>\n",
       "    </tr>\n",
       "    <tr>\n",
       "      <th>2</th>\n",
       "      <td>GAT</td>\n",
       "      <td>IMDB</td>\n",
       "      <td>0.7640</td>\n",
       "    </tr>\n",
       "    <tr>\n",
       "      <th>3</th>\n",
       "      <td>GAT</td>\n",
       "      <td>IMDB</td>\n",
       "      <td>0.8160</td>\n",
       "    </tr>\n",
       "    <tr>\n",
       "      <th>4</th>\n",
       "      <td>GAT</td>\n",
       "      <td>IMDB</td>\n",
       "      <td>0.8690</td>\n",
       "    </tr>\n",
       "    <tr>\n",
       "      <th>...</th>\n",
       "      <td>...</td>\n",
       "      <td>...</td>\n",
       "      <td>...</td>\n",
       "    </tr>\n",
       "    <tr>\n",
       "      <th>221</th>\n",
       "      <td>DiagSheaf</td>\n",
       "      <td>DBLP</td>\n",
       "      <td>0.9540</td>\n",
       "    </tr>\n",
       "    <tr>\n",
       "      <th>222</th>\n",
       "      <td>DiagSheaf</td>\n",
       "      <td>DBLP</td>\n",
       "      <td>0.9640</td>\n",
       "    </tr>\n",
       "    <tr>\n",
       "      <th>223</th>\n",
       "      <td>DiagSheaf</td>\n",
       "      <td>DBLP</td>\n",
       "      <td>0.9580</td>\n",
       "    </tr>\n",
       "    <tr>\n",
       "      <th>224</th>\n",
       "      <td>DiagSheaf</td>\n",
       "      <td>DBLP</td>\n",
       "      <td>0.9700</td>\n",
       "    </tr>\n",
       "    <tr>\n",
       "      <th>225</th>\n",
       "      <td>DiagSheaf</td>\n",
       "      <td>DBLP</td>\n",
       "      <td>0.9460</td>\n",
       "    </tr>\n",
       "  </tbody>\n",
       "</table>\n",
       "<p>226 rows × 3 columns</p>\n",
       "</div>"
      ],
      "text/plain": [
       "         model dataset  test_accuracy\n",
       "0          GAT    IMDB         0.7648\n",
       "1          GAT    IMDB         0.7964\n",
       "2          GAT    IMDB         0.7640\n",
       "3          GAT    IMDB         0.8160\n",
       "4          GAT    IMDB         0.8690\n",
       "..         ...     ...            ...\n",
       "221  DiagSheaf    DBLP         0.9540\n",
       "222  DiagSheaf    DBLP         0.9640\n",
       "223  DiagSheaf    DBLP         0.9580\n",
       "224  DiagSheaf    DBLP         0.9700\n",
       "225  DiagSheaf    DBLP         0.9460\n",
       "\n",
       "[226 rows x 3 columns]"
      ]
     },
     "execution_count": 6,
     "metadata": {},
     "output_type": "execute_result"
    }
   ],
   "source": [
    "df"
   ]
  },
  {
   "cell_type": "code",
   "execution_count": 7,
   "id": "f08b07965fb6810",
   "metadata": {
    "ExecuteTime": {
     "end_time": "2024-01-26T09:53:31.520655Z",
     "start_time": "2024-01-26T09:53:30.996238Z"
    },
    "collapsed": false,
    "jupyter": {
     "outputs_hidden": false
    }
   },
   "outputs": [
    {
     "data": {
      "text/plain": [
       "<Axes: xlabel='model', ylabel='test_accuracy'>"
      ]
     },
     "execution_count": 7,
     "metadata": {},
     "output_type": "execute_result"
    },
    {
     "data": {
      "image/png": "[encoded data removed]",
      "text/plain": [
       "<Figure size 1000x600 with 1 Axes>"
      ]
     },
     "metadata": {},
     "output_type": "display_data"
    }
   ],
   "source": [
    "fig = plt.figure(figsize=(10,6))\n",
    "\n",
    "ax = fig.add_subplot(111)\n",
    "\n",
    "sns.barplot(df, x=\"model\", y=\"test_accuracy\", hue=\"dataset\", ax=ax)"
   ]
  },
  {
   "cell_type": "code",
   "execution_count": 8,
   "id": "5740ae1190e92b29",
   "metadata": {
    "ExecuteTime": {
     "end_time": "2024-01-26T09:53:31.613439Z",
     "start_time": "2024-01-26T09:53:31.521960Z"
    },
    "collapsed": false,
    "jupyter": {
     "outputs_hidden": false
    }
   },
   "outputs": [
    {
     "data": {
      "text/html": [
       "<style type=\"text/css\">\n",
       "#T_36b06_row4_col1, #T_36b06_row6_col0, #T_36b06_row7_col2 {\n",
       "  background-color: blue;\n",
       "}\n",
       "</style>\n",
       "<table id=\"T_36b06\">\n",
       "  <thead>\n",
       "    <tr>\n",
       "      <th class=\"index_name level0\" >dataset</th>\n",
       "      <th id=\"T_36b06_level0_col0\" class=\"col_heading level0 col0\" >ACM</th>\n",
       "      <th id=\"T_36b06_level0_col1\" class=\"col_heading level0 col1\" >DBLP</th>\n",
       "      <th id=\"T_36b06_level0_col2\" class=\"col_heading level0 col2\" >IMDB</th>\n",
       "    </tr>\n",
       "    <tr>\n",
       "      <th class=\"index_name level0\" >model</th>\n",
       "      <th class=\"blank col0\" >&nbsp;</th>\n",
       "      <th class=\"blank col1\" >&nbsp;</th>\n",
       "      <th class=\"blank col2\" >&nbsp;</th>\n",
       "    </tr>\n",
       "  </thead>\n",
       "  <tbody>\n",
       "    <tr>\n",
       "      <th id=\"T_36b06_level0_row0\" class=\"row_heading level0 row0\" >BundleSheaf</th>\n",
       "      <td id=\"T_36b06_row0_col0\" class=\"data row0 col0\" >0.9506</td>\n",
       "      <td id=\"T_36b06_row0_col1\" class=\"data row0 col1\" >0.9672</td>\n",
       "      <td id=\"T_36b06_row0_col2\" class=\"data row0 col2\" >0.9181</td>\n",
       "    </tr>\n",
       "    <tr>\n",
       "      <th id=\"T_36b06_level0_row1\" class=\"row_heading level0 row1\" >DiagSheaf</th>\n",
       "      <td id=\"T_36b06_row1_col0\" class=\"data row1 col0\" >0.9454</td>\n",
       "      <td id=\"T_36b06_row1_col1\" class=\"data row1 col1\" >0.9553</td>\n",
       "      <td id=\"T_36b06_row1_col2\" class=\"data row1 col2\" >0.9191</td>\n",
       "    </tr>\n",
       "    <tr>\n",
       "      <th id=\"T_36b06_level0_row2\" class=\"row_heading level0 row2\" >GAT</th>\n",
       "      <td id=\"T_36b06_row2_col0\" class=\"data row2 col0\" >nan</td>\n",
       "      <td id=\"T_36b06_row2_col1\" class=\"data row2 col1\" >0.9551</td>\n",
       "      <td id=\"T_36b06_row2_col2\" class=\"data row2 col2\" >0.8103</td>\n",
       "    </tr>\n",
       "    <tr>\n",
       "      <th id=\"T_36b06_level0_row3\" class=\"row_heading level0 row3\" >GCN</th>\n",
       "      <td id=\"T_36b06_row3_col0\" class=\"data row3 col0\" >0.9046</td>\n",
       "      <td id=\"T_36b06_row3_col1\" class=\"data row3 col1\" >0.9370</td>\n",
       "      <td id=\"T_36b06_row3_col2\" class=\"data row3 col2\" >0.9127</td>\n",
       "    </tr>\n",
       "    <tr>\n",
       "      <th id=\"T_36b06_level0_row4\" class=\"row_heading level0 row4\" >GeneralSheaf</th>\n",
       "      <td id=\"T_36b06_row4_col0\" class=\"data row4 col0\" >0.9485</td>\n",
       "      <td id=\"T_36b06_row4_col1\" class=\"data row4 col1\" >0.9736</td>\n",
       "      <td id=\"T_36b06_row4_col2\" class=\"data row4 col2\" >0.9179</td>\n",
       "    </tr>\n",
       "    <tr>\n",
       "      <th id=\"T_36b06_level0_row5\" class=\"row_heading level0 row5\" >HAN</th>\n",
       "      <td id=\"T_36b06_row5_col0\" class=\"data row5 col0\" >0.8565</td>\n",
       "      <td id=\"T_36b06_row5_col1\" class=\"data row5 col1\" >0.9458</td>\n",
       "      <td id=\"T_36b06_row5_col2\" class=\"data row5 col2\" >0.6801</td>\n",
       "    </tr>\n",
       "    <tr>\n",
       "      <th id=\"T_36b06_level0_row6\" class=\"row_heading level0 row6\" >HGCN</th>\n",
       "      <td id=\"T_36b06_row6_col0\" class=\"data row6 col0\" >0.9585</td>\n",
       "      <td id=\"T_36b06_row6_col1\" class=\"data row6 col1\" >0.9570</td>\n",
       "      <td id=\"T_36b06_row6_col2\" class=\"data row6 col2\" >0.9141</td>\n",
       "    </tr>\n",
       "    <tr>\n",
       "      <th id=\"T_36b06_level0_row7\" class=\"row_heading level0 row7\" >RGCN</th>\n",
       "      <td id=\"T_36b06_row7_col0\" class=\"data row7 col0\" >0.9568</td>\n",
       "      <td id=\"T_36b06_row7_col1\" class=\"data row7 col1\" >0.9696</td>\n",
       "      <td id=\"T_36b06_row7_col2\" class=\"data row7 col2\" >0.9305</td>\n",
       "    </tr>\n",
       "  </tbody>\n",
       "</table>\n"
      ],
      "text/plain": [
       "<pandas.io.formats.style.Styler at 0x17d75add0>"
      ]
     },
     "execution_count": 8,
     "metadata": {},
     "output_type": "execute_result"
    }
   ],
   "source": [
    "grouped = df.groupby([\"model\", \"dataset\"]).agg([\"mean\", \"std\", \"max\"])\n",
    "grouped_mean = grouped[\"test_accuracy\"][\"mean\"].unstack()\n",
    "grouped_mean.style.format(precision=4).highlight_max(color='blue')"
   ]
  },
  {
   "cell_type": "code",
   "execution_count": 9,
   "id": "b4acf79dcd85fbc0",
   "metadata": {
    "ExecuteTime": {
     "end_time": "2024-01-26T09:53:31.616280Z",
     "start_time": "2024-01-26T09:53:31.584996Z"
    },
    "collapsed": false,
    "jupyter": {
     "outputs_hidden": false
    }
   },
   "outputs": [
    {
     "data": {
      "text/html": [
       "<style type=\"text/css\">\n",
       "#T_13fe1_row4_col1, #T_13fe1_row6_col0, #T_13fe1_row7_col1, #T_13fe1_row7_col2 {\n",
       "  background-color: blue;\n",
       "}\n",
       "</style>\n",
       "<table id=\"T_13fe1\">\n",
       "  <thead>\n",
       "    <tr>\n",
       "      <th class=\"index_name level0\" >dataset</th>\n",
       "      <th id=\"T_13fe1_level0_col0\" class=\"col_heading level0 col0\" >ACM</th>\n",
       "      <th id=\"T_13fe1_level0_col1\" class=\"col_heading level0 col1\" >DBLP</th>\n",
       "      <th id=\"T_13fe1_level0_col2\" class=\"col_heading level0 col2\" >IMDB</th>\n",
       "    </tr>\n",
       "    <tr>\n",
       "      <th class=\"index_name level0\" >model</th>\n",
       "      <th class=\"blank col0\" >&nbsp;</th>\n",
       "      <th class=\"blank col1\" >&nbsp;</th>\n",
       "      <th class=\"blank col2\" >&nbsp;</th>\n",
       "    </tr>\n",
       "  </thead>\n",
       "  <tbody>\n",
       "    <tr>\n",
       "      <th id=\"T_13fe1_level0_row0\" class=\"row_heading level0 row0\" >BundleSheaf</th>\n",
       "      <td id=\"T_13fe1_row0_col0\" class=\"data row0 col0\" >0.9610</td>\n",
       "      <td id=\"T_13fe1_row0_col1\" class=\"data row0 col1\" >0.9750</td>\n",
       "      <td id=\"T_13fe1_row0_col2\" class=\"data row0 col2\" >0.9294</td>\n",
       "    </tr>\n",
       "    <tr>\n",
       "      <th id=\"T_13fe1_level0_row1\" class=\"row_heading level0 row1\" >DiagSheaf</th>\n",
       "      <td id=\"T_13fe1_row1_col0\" class=\"data row1 col0\" >0.9510</td>\n",
       "      <td id=\"T_13fe1_row1_col1\" class=\"data row1 col1\" >0.9700</td>\n",
       "      <td id=\"T_13fe1_row1_col2\" class=\"data row1 col2\" >0.9258</td>\n",
       "    </tr>\n",
       "    <tr>\n",
       "      <th id=\"T_13fe1_level0_row2\" class=\"row_heading level0 row2\" >GAT</th>\n",
       "      <td id=\"T_13fe1_row2_col0\" class=\"data row2 col0\" >nan</td>\n",
       "      <td id=\"T_13fe1_row2_col1\" class=\"data row2 col1\" >0.9760</td>\n",
       "      <td id=\"T_13fe1_row2_col2\" class=\"data row2 col2\" >0.8714</td>\n",
       "    </tr>\n",
       "    <tr>\n",
       "      <th id=\"T_13fe1_level0_row3\" class=\"row_heading level0 row3\" >GCN</th>\n",
       "      <td id=\"T_13fe1_row3_col0\" class=\"data row3 col0\" >0.9300</td>\n",
       "      <td id=\"T_13fe1_row3_col1\" class=\"data row3 col1\" >0.9470</td>\n",
       "      <td id=\"T_13fe1_row3_col2\" class=\"data row3 col2\" >0.9244</td>\n",
       "    </tr>\n",
       "    <tr>\n",
       "      <th id=\"T_13fe1_level0_row4\" class=\"row_heading level0 row4\" >GeneralSheaf</th>\n",
       "      <td id=\"T_13fe1_row4_col0\" class=\"data row4 col0\" >0.9550</td>\n",
       "      <td id=\"T_13fe1_row4_col1\" class=\"data row4 col1\" >0.9810</td>\n",
       "      <td id=\"T_13fe1_row4_col2\" class=\"data row4 col2\" >0.9264</td>\n",
       "    </tr>\n",
       "    <tr>\n",
       "      <th id=\"T_13fe1_level0_row5\" class=\"row_heading level0 row5\" >HAN</th>\n",
       "      <td id=\"T_13fe1_row5_col0\" class=\"data row5 col0\" >0.9520</td>\n",
       "      <td id=\"T_13fe1_row5_col1\" class=\"data row5 col1\" >0.9550</td>\n",
       "      <td id=\"T_13fe1_row5_col2\" class=\"data row5 col2\" >0.6910</td>\n",
       "    </tr>\n",
       "    <tr>\n",
       "      <th id=\"T_13fe1_level0_row6\" class=\"row_heading level0 row6\" >HGCN</th>\n",
       "      <td id=\"T_13fe1_row6_col0\" class=\"data row6 col0\" >0.9690</td>\n",
       "      <td id=\"T_13fe1_row6_col1\" class=\"data row6 col1\" >0.9640</td>\n",
       "      <td id=\"T_13fe1_row6_col2\" class=\"data row6 col2\" >0.9246</td>\n",
       "    </tr>\n",
       "    <tr>\n",
       "      <th id=\"T_13fe1_level0_row7\" class=\"row_heading level0 row7\" >RGCN</th>\n",
       "      <td id=\"T_13fe1_row7_col0\" class=\"data row7 col0\" >0.9670</td>\n",
       "      <td id=\"T_13fe1_row7_col1\" class=\"data row7 col1\" >0.9810</td>\n",
       "      <td id=\"T_13fe1_row7_col2\" class=\"data row7 col2\" >0.9366</td>\n",
       "    </tr>\n",
       "  </tbody>\n",
       "</table>\n"
      ],
      "text/plain": [
       "<pandas.io.formats.style.Styler at 0x104848250>"
      ]
     },
     "execution_count": 9,
     "metadata": {},
     "output_type": "execute_result"
    }
   ],
   "source": [
    "grouped_max = grouped[\"test_accuracy\"][\"max\"].unstack()\n",
    "grouped_max.style.format(precision=4).highlight_max(color='blue')"
   ]
  },
  {
   "cell_type": "code",
   "execution_count": 10,
   "id": "f961bedfd530a360",
   "metadata": {
    "ExecuteTime": {
     "end_time": "2024-01-26T09:53:31.666987Z",
     "start_time": "2024-01-26T09:53:31.593243Z"
    },
    "collapsed": false,
    "jupyter": {
     "outputs_hidden": false
    }
   },
   "outputs": [
    {
     "data": {
      "text/html": [
       "<style type=\"text/css\">\n",
       "</style>\n",
       "<table id=\"T_0e525\">\n",
       "  <thead>\n",
       "    <tr>\n",
       "      <th class=\"index_name level0\" >dataset</th>\n",
       "      <th id=\"T_0e525_level0_col0\" class=\"col_heading level0 col0\" >ACM</th>\n",
       "      <th id=\"T_0e525_level0_col1\" class=\"col_heading level0 col1\" >DBLP</th>\n",
       "      <th id=\"T_0e525_level0_col2\" class=\"col_heading level0 col2\" >IMDB</th>\n",
       "    </tr>\n",
       "    <tr>\n",
       "      <th class=\"index_name level0\" >model</th>\n",
       "      <th class=\"blank col0\" >&nbsp;</th>\n",
       "      <th class=\"blank col1\" >&nbsp;</th>\n",
       "      <th class=\"blank col2\" >&nbsp;</th>\n",
       "    </tr>\n",
       "  </thead>\n",
       "  <tbody>\n",
       "    <tr>\n",
       "      <th id=\"T_0e525_level0_row0\" class=\"row_heading level0 row0\" >BundleSheaf</th>\n",
       "      <td id=\"T_0e525_row0_col0\" class=\"data row0 col0\" >0.0065</td>\n",
       "      <td id=\"T_0e525_row0_col1\" class=\"data row0 col1\" >0.0050</td>\n",
       "      <td id=\"T_0e525_row0_col2\" class=\"data row0 col2\" >0.0061</td>\n",
       "    </tr>\n",
       "    <tr>\n",
       "      <th id=\"T_0e525_level0_row1\" class=\"row_heading level0 row1\" >DiagSheaf</th>\n",
       "      <td id=\"T_0e525_row1_col0\" class=\"data row1 col0\" >0.0042</td>\n",
       "      <td id=\"T_0e525_row1_col1\" class=\"data row1 col1\" >0.0086</td>\n",
       "      <td id=\"T_0e525_row1_col2\" class=\"data row1 col2\" >0.0045</td>\n",
       "    </tr>\n",
       "    <tr>\n",
       "      <th id=\"T_0e525_level0_row2\" class=\"row_heading level0 row2\" >GAT</th>\n",
       "      <td id=\"T_0e525_row2_col0\" class=\"data row2 col0\" >nan</td>\n",
       "      <td id=\"T_0e525_row2_col1\" class=\"data row2 col1\" >0.0133</td>\n",
       "      <td id=\"T_0e525_row2_col2\" class=\"data row2 col2\" >0.0380</td>\n",
       "    </tr>\n",
       "    <tr>\n",
       "      <th id=\"T_0e525_level0_row3\" class=\"row_heading level0 row3\" >GCN</th>\n",
       "      <td id=\"T_0e525_row3_col0\" class=\"data row3 col0\" >0.0247</td>\n",
       "      <td id=\"T_0e525_row3_col1\" class=\"data row3 col1\" >0.0058</td>\n",
       "      <td id=\"T_0e525_row3_col2\" class=\"data row3 col2\" >0.0098</td>\n",
       "    </tr>\n",
       "    <tr>\n",
       "      <th id=\"T_0e525_level0_row4\" class=\"row_heading level0 row4\" >GeneralSheaf</th>\n",
       "      <td id=\"T_0e525_row4_col0\" class=\"data row4 col0\" >0.0062</td>\n",
       "      <td id=\"T_0e525_row4_col1\" class=\"data row4 col1\" >0.0050</td>\n",
       "      <td id=\"T_0e525_row4_col2\" class=\"data row4 col2\" >0.0058</td>\n",
       "    </tr>\n",
       "    <tr>\n",
       "      <th id=\"T_0e525_level0_row5\" class=\"row_heading level0 row5\" >HAN</th>\n",
       "      <td id=\"T_0e525_row5_col0\" class=\"data row5 col0\" >0.0633</td>\n",
       "      <td id=\"T_0e525_row5_col1\" class=\"data row5 col1\" >0.0061</td>\n",
       "      <td id=\"T_0e525_row5_col2\" class=\"data row5 col2\" >0.0052</td>\n",
       "    </tr>\n",
       "    <tr>\n",
       "      <th id=\"T_0e525_level0_row6\" class=\"row_heading level0 row6\" >HGCN</th>\n",
       "      <td id=\"T_0e525_row6_col0\" class=\"data row6 col0\" >0.0063</td>\n",
       "      <td id=\"T_0e525_row6_col1\" class=\"data row6 col1\" >0.0058</td>\n",
       "      <td id=\"T_0e525_row6_col2\" class=\"data row6 col2\" >0.0079</td>\n",
       "    </tr>\n",
       "    <tr>\n",
       "      <th id=\"T_0e525_level0_row7\" class=\"row_heading level0 row7\" >RGCN</th>\n",
       "      <td id=\"T_0e525_row7_col0\" class=\"data row7 col0\" >0.0084</td>\n",
       "      <td id=\"T_0e525_row7_col1\" class=\"data row7 col1\" >0.0067</td>\n",
       "      <td id=\"T_0e525_row7_col2\" class=\"data row7 col2\" >0.0036</td>\n",
       "    </tr>\n",
       "  </tbody>\n",
       "</table>\n"
      ],
      "text/plain": [
       "<pandas.io.formats.style.Styler at 0x17d77f5d0>"
      ]
     },
     "execution_count": 10,
     "metadata": {},
     "output_type": "execute_result"
    }
   ],
   "source": [
    "grouped_std = grouped[\"test_accuracy\"][\"std\"].unstack()\n",
    "grouped_std.style.format(precision=4)"
   ]
  },
  {
   "cell_type": "code",
   "execution_count": 11,
   "id": "8cea2bce-42e5-4c46-b22b-556fcdc2cc17",
   "metadata": {},
   "outputs": [
    {
     "data": {
      "text/html": [
       "<div>\n",
       "<style scoped>\n",
       "    .dataframe tbody tr th:only-of-type {\n",
       "        vertical-align: middle;\n",
       "    }\n",
       "\n",
       "    .dataframe tbody tr th {\n",
       "        vertical-align: top;\n",
       "    }\n",
       "\n",
       "    .dataframe thead th {\n",
       "        text-align: right;\n",
       "    }\n",
       "</style>\n",
       "<table border=\"1\" class=\"dataframe\">\n",
       "  <thead>\n",
       "    <tr style=\"text-align: right;\">\n",
       "      <th></th>\n",
       "      <th>model</th>\n",
       "      <th>dataset</th>\n",
       "      <th>test_accuracy</th>\n",
       "    </tr>\n",
       "  </thead>\n",
       "  <tbody>\n",
       "    <tr>\n",
       "      <th>0</th>\n",
       "      <td>GAT</td>\n",
       "      <td>IMDB</td>\n",
       "      <td>0.7648</td>\n",
       "    </tr>\n",
       "    <tr>\n",
       "      <th>1</th>\n",
       "      <td>GAT</td>\n",
       "      <td>IMDB</td>\n",
       "      <td>0.7964</td>\n",
       "    </tr>\n",
       "    <tr>\n",
       "      <th>2</th>\n",
       "      <td>GAT</td>\n",
       "      <td>IMDB</td>\n",
       "      <td>0.7640</td>\n",
       "    </tr>\n",
       "    <tr>\n",
       "      <th>3</th>\n",
       "      <td>GAT</td>\n",
       "      <td>IMDB</td>\n",
       "      <td>0.8160</td>\n",
       "    </tr>\n",
       "    <tr>\n",
       "      <th>4</th>\n",
       "      <td>GAT</td>\n",
       "      <td>IMDB</td>\n",
       "      <td>0.8690</td>\n",
       "    </tr>\n",
       "    <tr>\n",
       "      <th>...</th>\n",
       "      <td>...</td>\n",
       "      <td>...</td>\n",
       "      <td>...</td>\n",
       "    </tr>\n",
       "    <tr>\n",
       "      <th>221</th>\n",
       "      <td>DiagSheaf</td>\n",
       "      <td>DBLP</td>\n",
       "      <td>0.9540</td>\n",
       "    </tr>\n",
       "    <tr>\n",
       "      <th>222</th>\n",
       "      <td>DiagSheaf</td>\n",
       "      <td>DBLP</td>\n",
       "      <td>0.9640</td>\n",
       "    </tr>\n",
       "    <tr>\n",
       "      <th>223</th>\n",
       "      <td>DiagSheaf</td>\n",
       "      <td>DBLP</td>\n",
       "      <td>0.9580</td>\n",
       "    </tr>\n",
       "    <tr>\n",
       "      <th>224</th>\n",
       "      <td>DiagSheaf</td>\n",
       "      <td>DBLP</td>\n",
       "      <td>0.9700</td>\n",
       "    </tr>\n",
       "    <tr>\n",
       "      <th>225</th>\n",
       "      <td>DiagSheaf</td>\n",
       "      <td>DBLP</td>\n",
       "      <td>0.9460</td>\n",
       "    </tr>\n",
       "  </tbody>\n",
       "</table>\n",
       "<p>226 rows × 3 columns</p>\n",
       "</div>"
      ],
      "text/plain": [
       "         model dataset  test_accuracy\n",
       "0          GAT    IMDB         0.7648\n",
       "1          GAT    IMDB         0.7964\n",
       "2          GAT    IMDB         0.7640\n",
       "3          GAT    IMDB         0.8160\n",
       "4          GAT    IMDB         0.8690\n",
       "..         ...     ...            ...\n",
       "221  DiagSheaf    DBLP         0.9540\n",
       "222  DiagSheaf    DBLP         0.9640\n",
       "223  DiagSheaf    DBLP         0.9580\n",
       "224  DiagSheaf    DBLP         0.9700\n",
       "225  DiagSheaf    DBLP         0.9460\n",
       "\n",
       "[226 rows x 3 columns]"
      ]
     },
     "execution_count": 11,
     "metadata": {},
     "output_type": "execute_result"
    }
   ],
   "source": [
    "df"
   ]
  },
  {
   "cell_type": "code",
   "execution_count": 31,
   "id": "9407c069-16b9-402c-a399-f83d80219125",
   "metadata": {},
   "outputs": [],
   "source": [
    "final = grouped['test_accuracy'][['mean', 'std']]"
   ]
  },
  {
   "cell_type": "code",
   "execution_count": 36,
   "id": "af0c6329-82f2-483f-8b3e-17baa4740cc0",
   "metadata": {},
   "outputs": [],
   "source": [
    "def process_results(row):\n",
    "    return f\"{row['mean']:.4f}({row['std']:.4f})\"\n",
    "final['test_accuracy'] = final[['mean', 'std']].agg(process_results, axis=1)\n",
    "final = final['test_accuracy'].unstack()"
   ]
  },
  {
   "cell_type": "code",
   "execution_count": 37,
   "id": "153792b6-7b32-4735-ae6f-a88e7e3d35e9",
   "metadata": {},
   "outputs": [
    {
     "data": {
      "text/html": [
       "<div>\n",
       "<style scoped>\n",
       "    .dataframe tbody tr th:only-of-type {\n",
       "        vertical-align: middle;\n",
       "    }\n",
       "\n",
       "    .dataframe tbody tr th {\n",
       "        vertical-align: top;\n",
       "    }\n",
       "\n",
       "    .dataframe thead th {\n",
       "        text-align: right;\n",
       "    }\n",
       "</style>\n",
       "<table border=\"1\" class=\"dataframe\">\n",
       "  <thead>\n",
       "    <tr style=\"text-align: right;\">\n",
       "      <th>dataset</th>\n",
       "      <th>ACM</th>\n",
       "      <th>DBLP</th>\n",
       "      <th>IMDB</th>\n",
       "    </tr>\n",
       "    <tr>\n",
       "      <th>model</th>\n",
       "      <th></th>\n",
       "      <th></th>\n",
       "      <th></th>\n",
       "    </tr>\n",
       "  </thead>\n",
       "  <tbody>\n",
       "    <tr>\n",
       "      <th>BundleSheaf</th>\n",
       "      <td>0.9506(0.0065)</td>\n",
       "      <td>0.9672(0.0050)</td>\n",
       "      <td>0.9181(0.0061)</td>\n",
       "    </tr>\n",
       "    <tr>\n",
       "      <th>DiagSheaf</th>\n",
       "      <td>0.9454(0.0042)</td>\n",
       "      <td>0.9553(0.0086)</td>\n",
       "      <td>0.9191(0.0045)</td>\n",
       "    </tr>\n",
       "    <tr>\n",
       "      <th>GAT</th>\n",
       "      <td>NaN</td>\n",
       "      <td>0.9551(0.0133)</td>\n",
       "      <td>0.8103(0.0380)</td>\n",
       "    </tr>\n",
       "    <tr>\n",
       "      <th>GCN</th>\n",
       "      <td>0.9046(0.0247)</td>\n",
       "      <td>0.9370(0.0058)</td>\n",
       "      <td>0.9127(0.0098)</td>\n",
       "    </tr>\n",
       "    <tr>\n",
       "      <th>GeneralSheaf</th>\n",
       "      <td>0.9485(0.0062)</td>\n",
       "      <td>0.9736(0.0050)</td>\n",
       "      <td>0.9179(0.0058)</td>\n",
       "    </tr>\n",
       "    <tr>\n",
       "      <th>HAN</th>\n",
       "      <td>0.8565(0.0633)</td>\n",
       "      <td>0.9458(0.0061)</td>\n",
       "      <td>0.6801(0.0052)</td>\n",
       "    </tr>\n",
       "    <tr>\n",
       "      <th>HGCN</th>\n",
       "      <td>0.9585(0.0063)</td>\n",
       "      <td>0.9570(0.0058)</td>\n",
       "      <td>0.9141(0.0079)</td>\n",
       "    </tr>\n",
       "    <tr>\n",
       "      <th>RGCN</th>\n",
       "      <td>0.9568(0.0084)</td>\n",
       "      <td>0.9696(0.0067)</td>\n",
       "      <td>0.9305(0.0036)</td>\n",
       "    </tr>\n",
       "  </tbody>\n",
       "</table>\n",
       "</div>"
      ],
      "text/plain": [
       "dataset                  ACM            DBLP            IMDB\n",
       "model                                                       \n",
       "BundleSheaf   0.9506(0.0065)  0.9672(0.0050)  0.9181(0.0061)\n",
       "DiagSheaf     0.9454(0.0042)  0.9553(0.0086)  0.9191(0.0045)\n",
       "GAT                      NaN  0.9551(0.0133)  0.8103(0.0380)\n",
       "GCN           0.9046(0.0247)  0.9370(0.0058)  0.9127(0.0098)\n",
       "GeneralSheaf  0.9485(0.0062)  0.9736(0.0050)  0.9179(0.0058)\n",
       "HAN           0.8565(0.0633)  0.9458(0.0061)  0.6801(0.0052)\n",
       "HGCN          0.9585(0.0063)  0.9570(0.0058)  0.9141(0.0079)\n",
       "RGCN          0.9568(0.0084)  0.9696(0.0067)  0.9305(0.0036)"
      ]
     },
     "execution_count": 37,
     "metadata": {},
     "output_type": "execute_result"
    }
   ],
   "source": [
    "final"
   ]
  },
  {
   "cell_type": "code",
   "execution_count": 40,
   "id": "f3c7ee6b-e64b-4b90-b865-88ad8b1e6b50",
   "metadata": {},
   "outputs": [],
   "source": [
    "latex_table = final.style.to_latex(hrules=True, siunitx=True, column_format='lSSS')"
   ]
  },
  {
   "cell_type": "code",
   "execution_count": 44,
   "id": "b027dca8-0c67-40e8-9a22-14343acd8c72",
   "metadata": {},
   "outputs": [],
   "source": [
    "with open(\"../tables/exp1.tex\", \"w+\") as f:\n",
    "    f.write(latex_table)"
   ]
  },
  {
   "cell_type": "code",
   "execution_count": null,
   "id": "2ddfbb39-8d87-431d-995e-4dccfa49dc0a",
   "metadata": {},
   "outputs": [],
   "source": []
  }
 ],
 "metadata": {
  "kernelspec": {
   "display_name": "Python 3 (ipykernel)",
   "language": "python",
   "name": "python3"
  },
  "language_info": {
   "codemirror_mode": {
    "name": "ipython",
    "version": 3
   },
   "file_extension": ".py",
   "mimetype": "text/x-python",
   "name": "python",
   "nbconvert_exporter": "python",
   "pygments_lexer": "ipython3",
   "version": "3.11.4"
  }
 },
 "nbformat": 4,
 "nbformat_minor": 5
}
