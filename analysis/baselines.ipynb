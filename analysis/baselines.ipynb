{
 "cells": [
  {
   "cell_type": "markdown",
   "id": "3868e1de7d0e1056",
   "metadata": {
    "collapsed": false
   },
   "source": [
    "# Experiment 1: Baselines\n",
    "\n",
    "WANDB tag: `exp1`"
   ]
  },
  {
   "cell_type": "code",
   "execution_count": 1,
   "id": "b48e8ef0b1c2e7aa",
   "metadata": {
    "collapsed": false,
    "ExecuteTime": {
     "end_time": "2024-01-26T12:49:37.794462Z",
     "start_time": "2024-01-26T12:49:37.376208Z"
    }
   },
   "outputs": [],
   "source": [
    "import matplotlib.pyplot as plt\n",
    "import wandb\n",
    "import pandas as pd\n",
    "import seaborn as sns\n",
    "import matplotlib.pyplot as plt\n",
    "\n",
    "sns.set_style('whitegrid')\n",
    "sns.set_context('paper')"
   ]
  },
  {
   "cell_type": "code",
   "execution_count": 2,
   "id": "42876fd375ba115",
   "metadata": {
    "collapsed": false,
    "ExecuteTime": {
     "end_time": "2024-01-26T12:49:37.800274Z",
     "start_time": "2024-01-26T12:49:37.796076Z"
    }
   },
   "outputs": [],
   "source": [
    "api = wandb.Api(api_key=\"cc080145b244f97b7db093ba0e3de5088e7ee7aa\")"
   ]
  },
  {
   "cell_type": "code",
   "execution_count": 3,
   "id": "72403e3cbb46ec30",
   "metadata": {
    "collapsed": false,
    "ExecuteTime": {
     "end_time": "2024-01-26T12:49:37.987506Z",
     "start_time": "2024-01-26T12:49:37.799496Z"
    }
   },
   "outputs": [],
   "source": [
    "runs = api.runs(path=\"acs-thesis-lb2027/gnn-baselines\", include_sweeps=False, filters={\"$and\": [{\"tags\": {\"$in\": [\"exp1\"]}}, {\"state\": \"finished\"}]})"
   ]
  },
  {
   "cell_type": "code",
   "execution_count": 4,
   "id": "9beee5691793f352",
   "metadata": {
    "collapsed": false,
    "ExecuteTime": {
     "end_time": "2024-01-26T12:49:39.664756Z",
     "start_time": "2024-01-26T12:49:37.992767Z"
    }
   },
   "outputs": [],
   "source": [
    "rows = []\n",
    "\n",
    "for run in runs:\n",
    "\trow = {\n",
    "\t\t\"model\": run.config[\"model\"],\n",
    "\t\t\"dataset\": run.config[\"dataset\"],\n",
    "\t\t\"test_accuracy\": run.summary[\"test/accuracy\"]\n",
    "\t}\n",
    "\t\n",
    "\trows.append(row)"
   ]
  },
  {
   "cell_type": "code",
   "execution_count": 5,
   "id": "a441f2c72dd65929",
   "metadata": {
    "collapsed": false,
    "ExecuteTime": {
     "end_time": "2024-01-26T12:49:39.671604Z",
     "start_time": "2024-01-26T12:49:39.667209Z"
    }
   },
   "outputs": [],
   "source": [
    "df = pd.DataFrame(rows)"
   ]
  },
  {
   "cell_type": "code",
   "execution_count": 6,
   "id": "9aefdce59482237a",
   "metadata": {
    "collapsed": false,
    "ExecuteTime": {
     "end_time": "2024-01-26T12:49:39.688066Z",
     "start_time": "2024-01-26T12:49:39.674355Z"
    }
   },
   "outputs": [
    {
     "data": {
      "text/plain": "         model dataset  test_accuracy\n0          HGT     ACM          0.947\n1          HGT     ACM          0.944\n2          HGT     ACM          0.948\n3          HGT     ACM          0.941\n4          HGT     ACM          0.954\n..         ...     ...            ...\n251  DiagSheaf    DBLP          0.954\n252  DiagSheaf    DBLP          0.964\n253  DiagSheaf    DBLP          0.958\n254  DiagSheaf    DBLP          0.970\n255  DiagSheaf    DBLP          0.946\n\n[256 rows x 3 columns]",
      "text/html": "<div>\n<style scoped>\n    .dataframe tbody tr th:only-of-type {\n        vertical-align: middle;\n    }\n\n    .dataframe tbody tr th {\n        vertical-align: top;\n    }\n\n    .dataframe thead th {\n        text-align: right;\n    }\n</style>\n<table border=\"1\" class=\"dataframe\">\n  <thead>\n    <tr style=\"text-align: right;\">\n      <th></th>\n      <th>model</th>\n      <th>dataset</th>\n      <th>test_accuracy</th>\n    </tr>\n  </thead>\n  <tbody>\n    <tr>\n      <th>0</th>\n      <td>HGT</td>\n      <td>ACM</td>\n      <td>0.947</td>\n    </tr>\n    <tr>\n      <th>1</th>\n      <td>HGT</td>\n      <td>ACM</td>\n      <td>0.944</td>\n    </tr>\n    <tr>\n      <th>2</th>\n      <td>HGT</td>\n      <td>ACM</td>\n      <td>0.948</td>\n    </tr>\n    <tr>\n      <th>3</th>\n      <td>HGT</td>\n      <td>ACM</td>\n      <td>0.941</td>\n    </tr>\n    <tr>\n      <th>4</th>\n      <td>HGT</td>\n      <td>ACM</td>\n      <td>0.954</td>\n    </tr>\n    <tr>\n      <th>...</th>\n      <td>...</td>\n      <td>...</td>\n      <td>...</td>\n    </tr>\n    <tr>\n      <th>251</th>\n      <td>DiagSheaf</td>\n      <td>DBLP</td>\n      <td>0.954</td>\n    </tr>\n    <tr>\n      <th>252</th>\n      <td>DiagSheaf</td>\n      <td>DBLP</td>\n      <td>0.964</td>\n    </tr>\n    <tr>\n      <th>253</th>\n      <td>DiagSheaf</td>\n      <td>DBLP</td>\n      <td>0.958</td>\n    </tr>\n    <tr>\n      <th>254</th>\n      <td>DiagSheaf</td>\n      <td>DBLP</td>\n      <td>0.970</td>\n    </tr>\n    <tr>\n      <th>255</th>\n      <td>DiagSheaf</td>\n      <td>DBLP</td>\n      <td>0.946</td>\n    </tr>\n  </tbody>\n</table>\n<p>256 rows × 3 columns</p>\n</div>"
     },
     "execution_count": 6,
     "metadata": {},
     "output_type": "execute_result"
    }
   ],
   "source": [
    "df"
   ]
  },
  {
   "cell_type": "code",
   "execution_count": 7,
   "id": "f08b07965fb6810",
   "metadata": {
    "collapsed": false,
    "ExecuteTime": {
     "end_time": "2024-01-26T12:49:40.104550Z",
     "start_time": "2024-01-26T12:49:39.685804Z"
    }
   },
   "outputs": [
    {
     "data": {
      "text/plain": "<Axes: xlabel='model', ylabel='test_accuracy'>"
     },
     "execution_count": 7,
     "metadata": {},
     "output_type": "execute_result"
    },
    {
     "data": {
      "text/plain": "<Figure size 1000x600 with 1 Axes>",
      "image/png": "[encoded data removed]"
     },
     "metadata": {},
     "output_type": "display_data"
    }
   ],
   "source": [
    "fig = plt.figure(figsize=(10,6))\n",
    "\n",
    "ax = fig.add_subplot(111)\n",
    "\n",
    "sns.barplot(df, x=\"model\", y=\"test_accuracy\", hue=\"dataset\", ax=ax)"
   ]
  },
  {
   "cell_type": "code",
   "execution_count": 8,
   "id": "5740ae1190e92b29",
   "metadata": {
    "collapsed": false,
    "ExecuteTime": {
     "end_time": "2024-01-26T12:49:40.181216Z",
     "start_time": "2024-01-26T12:49:40.108928Z"
    }
   },
   "outputs": [
    {
     "data": {
      "text/plain": "<pandas.io.formats.style.Styler at 0x280ec6ed0>",
      "text/html": "<style type=\"text/css\">\n#T_9dea1_row4_col1, #T_9dea1_row6_col0, #T_9dea1_row8_col2 {\n  background-color: blue;\n}\n</style>\n<table id=\"T_9dea1\">\n  <thead>\n    <tr>\n      <th class=\"index_name level0\" >dataset</th>\n      <th id=\"T_9dea1_level0_col0\" class=\"col_heading level0 col0\" >ACM</th>\n      <th id=\"T_9dea1_level0_col1\" class=\"col_heading level0 col1\" >DBLP</th>\n      <th id=\"T_9dea1_level0_col2\" class=\"col_heading level0 col2\" >IMDB</th>\n    </tr>\n    <tr>\n      <th class=\"index_name level0\" >model</th>\n      <th class=\"blank col0\" >&nbsp;</th>\n      <th class=\"blank col1\" >&nbsp;</th>\n      <th class=\"blank col2\" >&nbsp;</th>\n    </tr>\n  </thead>\n  <tbody>\n    <tr>\n      <th id=\"T_9dea1_level0_row0\" class=\"row_heading level0 row0\" >BundleSheaf</th>\n      <td id=\"T_9dea1_row0_col0\" class=\"data row0 col0\" >0.9506</td>\n      <td id=\"T_9dea1_row0_col1\" class=\"data row0 col1\" >0.9672</td>\n      <td id=\"T_9dea1_row0_col2\" class=\"data row0 col2\" >0.9181</td>\n    </tr>\n    <tr>\n      <th id=\"T_9dea1_level0_row1\" class=\"row_heading level0 row1\" >DiagSheaf</th>\n      <td id=\"T_9dea1_row1_col0\" class=\"data row1 col0\" >0.9454</td>\n      <td id=\"T_9dea1_row1_col1\" class=\"data row1 col1\" >0.9553</td>\n      <td id=\"T_9dea1_row1_col2\" class=\"data row1 col2\" >0.9191</td>\n    </tr>\n    <tr>\n      <th id=\"T_9dea1_level0_row2\" class=\"row_heading level0 row2\" >GAT</th>\n      <td id=\"T_9dea1_row2_col0\" class=\"data row2 col0\" >nan</td>\n      <td id=\"T_9dea1_row2_col1\" class=\"data row2 col1\" >0.9551</td>\n      <td id=\"T_9dea1_row2_col2\" class=\"data row2 col2\" >0.8103</td>\n    </tr>\n    <tr>\n      <th id=\"T_9dea1_level0_row3\" class=\"row_heading level0 row3\" >GCN</th>\n      <td id=\"T_9dea1_row3_col0\" class=\"data row3 col0\" >0.9050</td>\n      <td id=\"T_9dea1_row3_col1\" class=\"data row3 col1\" >0.9356</td>\n      <td id=\"T_9dea1_row3_col2\" class=\"data row3 col2\" >0.9134</td>\n    </tr>\n    <tr>\n      <th id=\"T_9dea1_level0_row4\" class=\"row_heading level0 row4\" >GeneralSheaf</th>\n      <td id=\"T_9dea1_row4_col0\" class=\"data row4 col0\" >0.9485</td>\n      <td id=\"T_9dea1_row4_col1\" class=\"data row4 col1\" >0.9736</td>\n      <td id=\"T_9dea1_row4_col2\" class=\"data row4 col2\" >0.9179</td>\n    </tr>\n    <tr>\n      <th id=\"T_9dea1_level0_row5\" class=\"row_heading level0 row5\" >HAN</th>\n      <td id=\"T_9dea1_row5_col0\" class=\"data row5 col0\" >0.8565</td>\n      <td id=\"T_9dea1_row5_col1\" class=\"data row5 col1\" >0.9458</td>\n      <td id=\"T_9dea1_row5_col2\" class=\"data row5 col2\" >0.6801</td>\n    </tr>\n    <tr>\n      <th id=\"T_9dea1_level0_row6\" class=\"row_heading level0 row6\" >HGCN</th>\n      <td id=\"T_9dea1_row6_col0\" class=\"data row6 col0\" >0.9587</td>\n      <td id=\"T_9dea1_row6_col1\" class=\"data row6 col1\" >0.9570</td>\n      <td id=\"T_9dea1_row6_col2\" class=\"data row6 col2\" >0.9141</td>\n    </tr>\n    <tr>\n      <th id=\"T_9dea1_level0_row7\" class=\"row_heading level0 row7\" >HGT</th>\n      <td id=\"T_9dea1_row7_col0\" class=\"data row7 col0\" >0.9486</td>\n      <td id=\"T_9dea1_row7_col1\" class=\"data row7 col1\" >0.9479</td>\n      <td id=\"T_9dea1_row7_col2\" class=\"data row7 col2\" >0.7752</td>\n    </tr>\n    <tr>\n      <th id=\"T_9dea1_level0_row8\" class=\"row_heading level0 row8\" >RGCN</th>\n      <td id=\"T_9dea1_row8_col0\" class=\"data row8 col0\" >0.9568</td>\n      <td id=\"T_9dea1_row8_col1\" class=\"data row8 col1\" >0.9679</td>\n      <td id=\"T_9dea1_row8_col2\" class=\"data row8 col2\" >0.9305</td>\n    </tr>\n  </tbody>\n</table>\n"
     },
     "execution_count": 8,
     "metadata": {},
     "output_type": "execute_result"
    }
   ],
   "source": [
    "grouped = df.groupby([\"model\", \"dataset\"]).agg([\"mean\", \"std\", \"max\"])\n",
    "grouped_mean = grouped[\"test_accuracy\"][\"mean\"].unstack()\n",
    "grouped_mean.style.format(precision=4).highlight_max(color='blue')"
   ]
  },
  {
   "cell_type": "code",
   "execution_count": 9,
   "id": "b4acf79dcd85fbc0",
   "metadata": {
    "collapsed": false,
    "ExecuteTime": {
     "end_time": "2024-01-26T12:49:40.182226Z",
     "start_time": "2024-01-26T12:49:40.148771Z"
    }
   },
   "outputs": [
    {
     "data": {
      "text/plain": "<pandas.io.formats.style.Styler at 0x280e92fd0>",
      "text/html": "<style type=\"text/css\">\n#T_c243d_row4_col1, #T_c243d_row6_col0, #T_c243d_row8_col2 {\n  background-color: blue;\n}\n</style>\n<table id=\"T_c243d\">\n  <thead>\n    <tr>\n      <th class=\"index_name level0\" >dataset</th>\n      <th id=\"T_c243d_level0_col0\" class=\"col_heading level0 col0\" >ACM</th>\n      <th id=\"T_c243d_level0_col1\" class=\"col_heading level0 col1\" >DBLP</th>\n      <th id=\"T_c243d_level0_col2\" class=\"col_heading level0 col2\" >IMDB</th>\n    </tr>\n    <tr>\n      <th class=\"index_name level0\" >model</th>\n      <th class=\"blank col0\" >&nbsp;</th>\n      <th class=\"blank col1\" >&nbsp;</th>\n      <th class=\"blank col2\" >&nbsp;</th>\n    </tr>\n  </thead>\n  <tbody>\n    <tr>\n      <th id=\"T_c243d_level0_row0\" class=\"row_heading level0 row0\" >BundleSheaf</th>\n      <td id=\"T_c243d_row0_col0\" class=\"data row0 col0\" >0.9610</td>\n      <td id=\"T_c243d_row0_col1\" class=\"data row0 col1\" >0.9750</td>\n      <td id=\"T_c243d_row0_col2\" class=\"data row0 col2\" >0.9294</td>\n    </tr>\n    <tr>\n      <th id=\"T_c243d_level0_row1\" class=\"row_heading level0 row1\" >DiagSheaf</th>\n      <td id=\"T_c243d_row1_col0\" class=\"data row1 col0\" >0.9510</td>\n      <td id=\"T_c243d_row1_col1\" class=\"data row1 col1\" >0.9700</td>\n      <td id=\"T_c243d_row1_col2\" class=\"data row1 col2\" >0.9258</td>\n    </tr>\n    <tr>\n      <th id=\"T_c243d_level0_row2\" class=\"row_heading level0 row2\" >GAT</th>\n      <td id=\"T_c243d_row2_col0\" class=\"data row2 col0\" >nan</td>\n      <td id=\"T_c243d_row2_col1\" class=\"data row2 col1\" >0.9760</td>\n      <td id=\"T_c243d_row2_col2\" class=\"data row2 col2\" >0.8714</td>\n    </tr>\n    <tr>\n      <th id=\"T_c243d_level0_row3\" class=\"row_heading level0 row3\" >GCN</th>\n      <td id=\"T_c243d_row3_col0\" class=\"data row3 col0\" >0.9300</td>\n      <td id=\"T_c243d_row3_col1\" class=\"data row3 col1\" >0.9470</td>\n      <td id=\"T_c243d_row3_col2\" class=\"data row3 col2\" >0.9244</td>\n    </tr>\n    <tr>\n      <th id=\"T_c243d_level0_row4\" class=\"row_heading level0 row4\" >GeneralSheaf</th>\n      <td id=\"T_c243d_row4_col0\" class=\"data row4 col0\" >0.9550</td>\n      <td id=\"T_c243d_row4_col1\" class=\"data row4 col1\" >0.9810</td>\n      <td id=\"T_c243d_row4_col2\" class=\"data row4 col2\" >0.9264</td>\n    </tr>\n    <tr>\n      <th id=\"T_c243d_level0_row5\" class=\"row_heading level0 row5\" >HAN</th>\n      <td id=\"T_c243d_row5_col0\" class=\"data row5 col0\" >0.9520</td>\n      <td id=\"T_c243d_row5_col1\" class=\"data row5 col1\" >0.9550</td>\n      <td id=\"T_c243d_row5_col2\" class=\"data row5 col2\" >0.6910</td>\n    </tr>\n    <tr>\n      <th id=\"T_c243d_level0_row6\" class=\"row_heading level0 row6\" >HGCN</th>\n      <td id=\"T_c243d_row6_col0\" class=\"data row6 col0\" >0.9690</td>\n      <td id=\"T_c243d_row6_col1\" class=\"data row6 col1\" >0.9640</td>\n      <td id=\"T_c243d_row6_col2\" class=\"data row6 col2\" >0.9246</td>\n    </tr>\n    <tr>\n      <th id=\"T_c243d_level0_row7\" class=\"row_heading level0 row7\" >HGT</th>\n      <td id=\"T_c243d_row7_col0\" class=\"data row7 col0\" >0.9620</td>\n      <td id=\"T_c243d_row7_col1\" class=\"data row7 col1\" >0.9630</td>\n      <td id=\"T_c243d_row7_col2\" class=\"data row7 col2\" >0.7876</td>\n    </tr>\n    <tr>\n      <th id=\"T_c243d_level0_row8\" class=\"row_heading level0 row8\" >RGCN</th>\n      <td id=\"T_c243d_row8_col0\" class=\"data row8 col0\" >0.9670</td>\n      <td id=\"T_c243d_row8_col1\" class=\"data row8 col1\" >0.9760</td>\n      <td id=\"T_c243d_row8_col2\" class=\"data row8 col2\" >0.9366</td>\n    </tr>\n  </tbody>\n</table>\n"
     },
     "execution_count": 9,
     "metadata": {},
     "output_type": "execute_result"
    }
   ],
   "source": [
    "grouped_max = grouped[\"test_accuracy\"][\"max\"].unstack()\n",
    "grouped_max.style.format(precision=4).highlight_max(color='blue')"
   ]
  },
  {
   "cell_type": "code",
   "execution_count": 10,
   "id": "f961bedfd530a360",
   "metadata": {
    "collapsed": false,
    "ExecuteTime": {
     "end_time": "2024-01-26T12:49:40.198212Z",
     "start_time": "2024-01-26T12:49:40.178505Z"
    }
   },
   "outputs": [
    {
     "data": {
      "text/plain": "<pandas.io.formats.style.Styler at 0x1090c5610>",
      "text/html": "<style type=\"text/css\">\n</style>\n<table id=\"T_92b46\">\n  <thead>\n    <tr>\n      <th class=\"index_name level0\" >dataset</th>\n      <th id=\"T_92b46_level0_col0\" class=\"col_heading level0 col0\" >ACM</th>\n      <th id=\"T_92b46_level0_col1\" class=\"col_heading level0 col1\" >DBLP</th>\n      <th id=\"T_92b46_level0_col2\" class=\"col_heading level0 col2\" >IMDB</th>\n    </tr>\n    <tr>\n      <th class=\"index_name level0\" >model</th>\n      <th class=\"blank col0\" >&nbsp;</th>\n      <th class=\"blank col1\" >&nbsp;</th>\n      <th class=\"blank col2\" >&nbsp;</th>\n    </tr>\n  </thead>\n  <tbody>\n    <tr>\n      <th id=\"T_92b46_level0_row0\" class=\"row_heading level0 row0\" >BundleSheaf</th>\n      <td id=\"T_92b46_row0_col0\" class=\"data row0 col0\" >0.0065</td>\n      <td id=\"T_92b46_row0_col1\" class=\"data row0 col1\" >0.0050</td>\n      <td id=\"T_92b46_row0_col2\" class=\"data row0 col2\" >0.0061</td>\n    </tr>\n    <tr>\n      <th id=\"T_92b46_level0_row1\" class=\"row_heading level0 row1\" >DiagSheaf</th>\n      <td id=\"T_92b46_row1_col0\" class=\"data row1 col0\" >0.0042</td>\n      <td id=\"T_92b46_row1_col1\" class=\"data row1 col1\" >0.0086</td>\n      <td id=\"T_92b46_row1_col2\" class=\"data row1 col2\" >0.0045</td>\n    </tr>\n    <tr>\n      <th id=\"T_92b46_level0_row2\" class=\"row_heading level0 row2\" >GAT</th>\n      <td id=\"T_92b46_row2_col0\" class=\"data row2 col0\" >nan</td>\n      <td id=\"T_92b46_row2_col1\" class=\"data row2 col1\" >0.0133</td>\n      <td id=\"T_92b46_row2_col2\" class=\"data row2 col2\" >0.0380</td>\n    </tr>\n    <tr>\n      <th id=\"T_92b46_level0_row3\" class=\"row_heading level0 row3\" >GCN</th>\n      <td id=\"T_92b46_row3_col0\" class=\"data row3 col0\" >0.0261</td>\n      <td id=\"T_92b46_row3_col1\" class=\"data row3 col1\" >0.0059</td>\n      <td id=\"T_92b46_row3_col2\" class=\"data row3 col2\" >0.0096</td>\n    </tr>\n    <tr>\n      <th id=\"T_92b46_level0_row4\" class=\"row_heading level0 row4\" >GeneralSheaf</th>\n      <td id=\"T_92b46_row4_col0\" class=\"data row4 col0\" >0.0062</td>\n      <td id=\"T_92b46_row4_col1\" class=\"data row4 col1\" >0.0050</td>\n      <td id=\"T_92b46_row4_col2\" class=\"data row4 col2\" >0.0058</td>\n    </tr>\n    <tr>\n      <th id=\"T_92b46_level0_row5\" class=\"row_heading level0 row5\" >HAN</th>\n      <td id=\"T_92b46_row5_col0\" class=\"data row5 col0\" >0.0633</td>\n      <td id=\"T_92b46_row5_col1\" class=\"data row5 col1\" >0.0061</td>\n      <td id=\"T_92b46_row5_col2\" class=\"data row5 col2\" >0.0052</td>\n    </tr>\n    <tr>\n      <th id=\"T_92b46_level0_row6\" class=\"row_heading level0 row6\" >HGCN</th>\n      <td id=\"T_92b46_row6_col0\" class=\"data row6 col0\" >0.0064</td>\n      <td id=\"T_92b46_row6_col1\" class=\"data row6 col1\" >0.0058</td>\n      <td id=\"T_92b46_row6_col2\" class=\"data row6 col2\" >0.0079</td>\n    </tr>\n    <tr>\n      <th id=\"T_92b46_level0_row7\" class=\"row_heading level0 row7\" >HGT</th>\n      <td id=\"T_92b46_row7_col0\" class=\"data row7 col0\" >0.0081</td>\n      <td id=\"T_92b46_row7_col1\" class=\"data row7 col1\" >0.0097</td>\n      <td id=\"T_92b46_row7_col2\" class=\"data row7 col2\" >0.0153</td>\n    </tr>\n    <tr>\n      <th id=\"T_92b46_level0_row8\" class=\"row_heading level0 row8\" >RGCN</th>\n      <td id=\"T_92b46_row8_col0\" class=\"data row8 col0\" >0.0084</td>\n      <td id=\"T_92b46_row8_col1\" class=\"data row8 col1\" >0.0055</td>\n      <td id=\"T_92b46_row8_col2\" class=\"data row8 col2\" >0.0036</td>\n    </tr>\n  </tbody>\n</table>\n"
     },
     "execution_count": 10,
     "metadata": {},
     "output_type": "execute_result"
    }
   ],
   "source": [
    "grouped_std = grouped[\"test_accuracy\"][\"std\"].unstack()\n",
    "grouped_std.style.format(precision=4)"
   ]
  },
  {
   "cell_type": "code",
   "execution_count": 11,
   "id": "8cea2bce-42e5-4c46-b22b-556fcdc2cc17",
   "metadata": {
    "ExecuteTime": {
     "end_time": "2024-01-26T12:49:40.200305Z",
     "start_time": "2024-01-26T12:49:40.181097Z"
    }
   },
   "outputs": [
    {
     "data": {
      "text/plain": "         model dataset  test_accuracy\n0          HGT     ACM          0.947\n1          HGT     ACM          0.944\n2          HGT     ACM          0.948\n3          HGT     ACM          0.941\n4          HGT     ACM          0.954\n..         ...     ...            ...\n251  DiagSheaf    DBLP          0.954\n252  DiagSheaf    DBLP          0.964\n253  DiagSheaf    DBLP          0.958\n254  DiagSheaf    DBLP          0.970\n255  DiagSheaf    DBLP          0.946\n\n[256 rows x 3 columns]",
      "text/html": "<div>\n<style scoped>\n    .dataframe tbody tr th:only-of-type {\n        vertical-align: middle;\n    }\n\n    .dataframe tbody tr th {\n        vertical-align: top;\n    }\n\n    .dataframe thead th {\n        text-align: right;\n    }\n</style>\n<table border=\"1\" class=\"dataframe\">\n  <thead>\n    <tr style=\"text-align: right;\">\n      <th></th>\n      <th>model</th>\n      <th>dataset</th>\n      <th>test_accuracy</th>\n    </tr>\n  </thead>\n  <tbody>\n    <tr>\n      <th>0</th>\n      <td>HGT</td>\n      <td>ACM</td>\n      <td>0.947</td>\n    </tr>\n    <tr>\n      <th>1</th>\n      <td>HGT</td>\n      <td>ACM</td>\n      <td>0.944</td>\n    </tr>\n    <tr>\n      <th>2</th>\n      <td>HGT</td>\n      <td>ACM</td>\n      <td>0.948</td>\n    </tr>\n    <tr>\n      <th>3</th>\n      <td>HGT</td>\n      <td>ACM</td>\n      <td>0.941</td>\n    </tr>\n    <tr>\n      <th>4</th>\n      <td>HGT</td>\n      <td>ACM</td>\n      <td>0.954</td>\n    </tr>\n    <tr>\n      <th>...</th>\n      <td>...</td>\n      <td>...</td>\n      <td>...</td>\n    </tr>\n    <tr>\n      <th>251</th>\n      <td>DiagSheaf</td>\n      <td>DBLP</td>\n      <td>0.954</td>\n    </tr>\n    <tr>\n      <th>252</th>\n      <td>DiagSheaf</td>\n      <td>DBLP</td>\n      <td>0.964</td>\n    </tr>\n    <tr>\n      <th>253</th>\n      <td>DiagSheaf</td>\n      <td>DBLP</td>\n      <td>0.958</td>\n    </tr>\n    <tr>\n      <th>254</th>\n      <td>DiagSheaf</td>\n      <td>DBLP</td>\n      <td>0.970</td>\n    </tr>\n    <tr>\n      <th>255</th>\n      <td>DiagSheaf</td>\n      <td>DBLP</td>\n      <td>0.946</td>\n    </tr>\n  </tbody>\n</table>\n<p>256 rows × 3 columns</p>\n</div>"
     },
     "execution_count": 11,
     "metadata": {},
     "output_type": "execute_result"
    }
   ],
   "source": [
    "df"
   ]
  },
  {
   "cell_type": "code",
   "execution_count": 12,
   "id": "9407c069-16b9-402c-a399-f83d80219125",
   "metadata": {
    "ExecuteTime": {
     "end_time": "2024-01-26T12:49:40.200725Z",
     "start_time": "2024-01-26T12:49:40.189661Z"
    }
   },
   "outputs": [],
   "source": [
    "final = grouped['test_accuracy'][['mean', 'std']]"
   ]
  },
  {
   "cell_type": "code",
   "execution_count": 13,
   "id": "af0c6329-82f2-483f-8b3e-17baa4740cc0",
   "metadata": {
    "ExecuteTime": {
     "end_time": "2024-01-26T12:49:40.201087Z",
     "start_time": "2024-01-26T12:49:40.194469Z"
    }
   },
   "outputs": [],
   "source": [
    "def process_results(row):\n",
    "    return f\"{row['mean']:.4f}({row['std']:.4f})\"\n",
    "final['test_accuracy'] = final[['mean', 'std']].agg(process_results, axis=1)\n",
    "final = final['test_accuracy'].unstack()"
   ]
  },
  {
   "cell_type": "code",
   "execution_count": 14,
   "id": "153792b6-7b32-4735-ae6f-a88e7e3d35e9",
   "metadata": {
    "ExecuteTime": {
     "end_time": "2024-01-26T12:49:40.208713Z",
     "start_time": "2024-01-26T12:49:40.200019Z"
    }
   },
   "outputs": [
    {
     "data": {
      "text/plain": "dataset                  ACM            DBLP            IMDB\nmodel                                                       \nBundleSheaf   0.9506(0.0065)  0.9672(0.0050)  0.9181(0.0061)\nDiagSheaf     0.9454(0.0042)  0.9553(0.0086)  0.9191(0.0045)\nGAT                      NaN  0.9551(0.0133)  0.8103(0.0380)\nGCN           0.9050(0.0261)  0.9356(0.0059)  0.9134(0.0096)\nGeneralSheaf  0.9485(0.0062)  0.9736(0.0050)  0.9179(0.0058)\nHAN           0.8565(0.0633)  0.9458(0.0061)  0.6801(0.0052)\nHGCN          0.9587(0.0064)  0.9570(0.0058)  0.9141(0.0079)\nHGT           0.9486(0.0081)  0.9479(0.0097)  0.7752(0.0153)\nRGCN          0.9568(0.0084)  0.9679(0.0055)  0.9305(0.0036)",
      "text/html": "<div>\n<style scoped>\n    .dataframe tbody tr th:only-of-type {\n        vertical-align: middle;\n    }\n\n    .dataframe tbody tr th {\n        vertical-align: top;\n    }\n\n    .dataframe thead th {\n        text-align: right;\n    }\n</style>\n<table border=\"1\" class=\"dataframe\">\n  <thead>\n    <tr style=\"text-align: right;\">\n      <th>dataset</th>\n      <th>ACM</th>\n      <th>DBLP</th>\n      <th>IMDB</th>\n    </tr>\n    <tr>\n      <th>model</th>\n      <th></th>\n      <th></th>\n      <th></th>\n    </tr>\n  </thead>\n  <tbody>\n    <tr>\n      <th>BundleSheaf</th>\n      <td>0.9506(0.0065)</td>\n      <td>0.9672(0.0050)</td>\n      <td>0.9181(0.0061)</td>\n    </tr>\n    <tr>\n      <th>DiagSheaf</th>\n      <td>0.9454(0.0042)</td>\n      <td>0.9553(0.0086)</td>\n      <td>0.9191(0.0045)</td>\n    </tr>\n    <tr>\n      <th>GAT</th>\n      <td>NaN</td>\n      <td>0.9551(0.0133)</td>\n      <td>0.8103(0.0380)</td>\n    </tr>\n    <tr>\n      <th>GCN</th>\n      <td>0.9050(0.0261)</td>\n      <td>0.9356(0.0059)</td>\n      <td>0.9134(0.0096)</td>\n    </tr>\n    <tr>\n      <th>GeneralSheaf</th>\n      <td>0.9485(0.0062)</td>\n      <td>0.9736(0.0050)</td>\n      <td>0.9179(0.0058)</td>\n    </tr>\n    <tr>\n      <th>HAN</th>\n      <td>0.8565(0.0633)</td>\n      <td>0.9458(0.0061)</td>\n      <td>0.6801(0.0052)</td>\n    </tr>\n    <tr>\n      <th>HGCN</th>\n      <td>0.9587(0.0064)</td>\n      <td>0.9570(0.0058)</td>\n      <td>0.9141(0.0079)</td>\n    </tr>\n    <tr>\n      <th>HGT</th>\n      <td>0.9486(0.0081)</td>\n      <td>0.9479(0.0097)</td>\n      <td>0.7752(0.0153)</td>\n    </tr>\n    <tr>\n      <th>RGCN</th>\n      <td>0.9568(0.0084)</td>\n      <td>0.9679(0.0055)</td>\n      <td>0.9305(0.0036)</td>\n    </tr>\n  </tbody>\n</table>\n</div>"
     },
     "execution_count": 14,
     "metadata": {},
     "output_type": "execute_result"
    }
   ],
   "source": [
    "final"
   ]
  },
  {
   "cell_type": "code",
   "execution_count": 15,
   "id": "f3c7ee6b-e64b-4b90-b865-88ad8b1e6b50",
   "metadata": {
    "ExecuteTime": {
     "end_time": "2024-01-26T12:49:40.228295Z",
     "start_time": "2024-01-26T12:49:40.204088Z"
    }
   },
   "outputs": [],
   "source": [
    "latex_table = final.style.to_latex(hrules=True, siunitx=True, column_format='lSSS')"
   ]
  },
  {
   "cell_type": "code",
   "execution_count": 16,
   "id": "b027dca8-0c67-40e8-9a22-14343acd8c72",
   "metadata": {
    "ExecuteTime": {
     "end_time": "2024-01-26T12:49:40.229389Z",
     "start_time": "2024-01-26T12:49:40.215536Z"
    }
   },
   "outputs": [],
   "source": [
    "with open(\"../tables/exp1_acc.tex\", \"w+\") as f:\n",
    "    f.write(latex_table)"
   ]
  },
  {
   "cell_type": "code",
   "execution_count": 16,
   "id": "2ddfbb39-8d87-431d-995e-4dccfa49dc0a",
   "metadata": {
    "ExecuteTime": {
     "end_time": "2024-01-26T12:49:40.241991Z",
     "start_time": "2024-01-26T12:49:40.218916Z"
    }
   },
   "outputs": [],
   "source": []
  },
  {
   "cell_type": "markdown",
   "id": "d40973ae8f4704e3",
   "metadata": {
    "collapsed": false
   },
   "source": [
    "## Runtime Analysis"
   ]
  },
  {
   "cell_type": "code",
   "execution_count": 17,
   "id": "b11e2a58a0cf1e3a",
   "metadata": {
    "collapsed": false,
    "ExecuteTime": {
     "end_time": "2024-01-26T12:49:40.269178Z",
     "start_time": "2024-01-26T12:49:40.224136Z"
    }
   },
   "outputs": [],
   "source": [
    "rows = []\n",
    "\n",
    "for run in runs:\n",
    "\trow = {\n",
    "\t\t\"model\": run.config[\"model\"],\n",
    "\t\t\"dataset\": run.config[\"dataset\"],\n",
    "\t\t\"runtime\": run.summary[\"_runtime\"]\n",
    "\t}\n",
    "\t\n",
    "\trows.append(row)"
   ]
  },
  {
   "cell_type": "code",
   "execution_count": 18,
   "id": "e806a6b0a39ea942",
   "metadata": {
    "collapsed": false,
    "ExecuteTime": {
     "end_time": "2024-01-26T12:49:40.271044Z",
     "start_time": "2024-01-26T12:49:40.230229Z"
    }
   },
   "outputs": [
    {
     "data": {
      "text/plain": "         model dataset     runtime\n0          HGT     ACM  583.742247\n1          HGT     ACM  577.061824\n2          HGT     ACM  570.433954\n3          HGT     ACM  543.129034\n4          HGT     ACM  573.250262\n..         ...     ...         ...\n251  DiagSheaf    DBLP   14.607086\n252  DiagSheaf    DBLP   15.786046\n253  DiagSheaf    DBLP   78.487964\n254  DiagSheaf    DBLP   75.637757\n255  DiagSheaf    DBLP   14.437261\n\n[256 rows x 3 columns]",
      "text/html": "<div>\n<style scoped>\n    .dataframe tbody tr th:only-of-type {\n        vertical-align: middle;\n    }\n\n    .dataframe tbody tr th {\n        vertical-align: top;\n    }\n\n    .dataframe thead th {\n        text-align: right;\n    }\n</style>\n<table border=\"1\" class=\"dataframe\">\n  <thead>\n    <tr style=\"text-align: right;\">\n      <th></th>\n      <th>model</th>\n      <th>dataset</th>\n      <th>runtime</th>\n    </tr>\n  </thead>\n  <tbody>\n    <tr>\n      <th>0</th>\n      <td>HGT</td>\n      <td>ACM</td>\n      <td>583.742247</td>\n    </tr>\n    <tr>\n      <th>1</th>\n      <td>HGT</td>\n      <td>ACM</td>\n      <td>577.061824</td>\n    </tr>\n    <tr>\n      <th>2</th>\n      <td>HGT</td>\n      <td>ACM</td>\n      <td>570.433954</td>\n    </tr>\n    <tr>\n      <th>3</th>\n      <td>HGT</td>\n      <td>ACM</td>\n      <td>543.129034</td>\n    </tr>\n    <tr>\n      <th>4</th>\n      <td>HGT</td>\n      <td>ACM</td>\n      <td>573.250262</td>\n    </tr>\n    <tr>\n      <th>...</th>\n      <td>...</td>\n      <td>...</td>\n      <td>...</td>\n    </tr>\n    <tr>\n      <th>251</th>\n      <td>DiagSheaf</td>\n      <td>DBLP</td>\n      <td>14.607086</td>\n    </tr>\n    <tr>\n      <th>252</th>\n      <td>DiagSheaf</td>\n      <td>DBLP</td>\n      <td>15.786046</td>\n    </tr>\n    <tr>\n      <th>253</th>\n      <td>DiagSheaf</td>\n      <td>DBLP</td>\n      <td>78.487964</td>\n    </tr>\n    <tr>\n      <th>254</th>\n      <td>DiagSheaf</td>\n      <td>DBLP</td>\n      <td>75.637757</td>\n    </tr>\n    <tr>\n      <th>255</th>\n      <td>DiagSheaf</td>\n      <td>DBLP</td>\n      <td>14.437261</td>\n    </tr>\n  </tbody>\n</table>\n<p>256 rows × 3 columns</p>\n</div>"
     },
     "execution_count": 18,
     "metadata": {},
     "output_type": "execute_result"
    }
   ],
   "source": [
    "df_rt = pd.DataFrame(rows)\n",
    "df_rt"
   ]
  },
  {
   "cell_type": "code",
   "execution_count": 19,
   "id": "a919be36d35b0292",
   "metadata": {
    "collapsed": false,
    "ExecuteTime": {
     "end_time": "2024-01-26T12:49:40.305682Z",
     "start_time": "2024-01-26T12:49:40.238051Z"
    }
   },
   "outputs": [],
   "source": [
    "grouped_rt = df_rt.groupby([\"model\", \"dataset\"]).agg([\"mean\", \"std\", \"max\"])\n",
    "grouped_rt.style.format(precision=1)\n",
    "\n",
    "grouped_rt['runtime_final'] = grouped_rt['runtime'][['mean', 'std']].agg(process_results, axis=1)\n",
    "final_rt = grouped_rt['runtime_final'].unstack()"
   ]
  },
  {
   "cell_type": "code",
   "execution_count": 20,
   "id": "da08343c4122f8e8",
   "metadata": {
    "collapsed": false,
    "ExecuteTime": {
     "end_time": "2024-01-26T12:49:40.307112Z",
     "start_time": "2024-01-26T12:49:40.242882Z"
    }
   },
   "outputs": [
    {
     "data": {
      "text/plain": "dataset                     ACM               DBLP               IMDB\nmodel                                                                \nBundleSheaf    230.8867(0.4877)    50.2510(2.5769)    40.5528(0.8624)\nDiagSheaf      25.9138(38.8479)   27.4165(26.1796)    12.0483(0.4515)\nGAT                         NaN  161.3872(18.7326)   106.0669(4.1283)\nGCN             65.6198(3.5659)    31.1607(1.5243)    19.7993(0.6347)\nGeneralSheaf    33.0413(0.4170)   76.6480(11.0116)    37.2581(0.7530)\nHAN             27.7090(2.0382)    18.0968(1.1265)    16.5373(2.2492)\nHGCN            77.8371(5.5047)    62.1525(1.1034)    70.8731(3.8934)\nHGT           567.1390(18.0209)  882.5029(25.2861)   697.9369(3.6391)\nRGCN           110.8464(1.9021)   222.0993(5.8718)  162.7710(11.0552)",
      "text/html": "<div>\n<style scoped>\n    .dataframe tbody tr th:only-of-type {\n        vertical-align: middle;\n    }\n\n    .dataframe tbody tr th {\n        vertical-align: top;\n    }\n\n    .dataframe thead th {\n        text-align: right;\n    }\n</style>\n<table border=\"1\" class=\"dataframe\">\n  <thead>\n    <tr style=\"text-align: right;\">\n      <th>dataset</th>\n      <th>ACM</th>\n      <th>DBLP</th>\n      <th>IMDB</th>\n    </tr>\n    <tr>\n      <th>model</th>\n      <th></th>\n      <th></th>\n      <th></th>\n    </tr>\n  </thead>\n  <tbody>\n    <tr>\n      <th>BundleSheaf</th>\n      <td>230.8867(0.4877)</td>\n      <td>50.2510(2.5769)</td>\n      <td>40.5528(0.8624)</td>\n    </tr>\n    <tr>\n      <th>DiagSheaf</th>\n      <td>25.9138(38.8479)</td>\n      <td>27.4165(26.1796)</td>\n      <td>12.0483(0.4515)</td>\n    </tr>\n    <tr>\n      <th>GAT</th>\n      <td>NaN</td>\n      <td>161.3872(18.7326)</td>\n      <td>106.0669(4.1283)</td>\n    </tr>\n    <tr>\n      <th>GCN</th>\n      <td>65.6198(3.5659)</td>\n      <td>31.1607(1.5243)</td>\n      <td>19.7993(0.6347)</td>\n    </tr>\n    <tr>\n      <th>GeneralSheaf</th>\n      <td>33.0413(0.4170)</td>\n      <td>76.6480(11.0116)</td>\n      <td>37.2581(0.7530)</td>\n    </tr>\n    <tr>\n      <th>HAN</th>\n      <td>27.7090(2.0382)</td>\n      <td>18.0968(1.1265)</td>\n      <td>16.5373(2.2492)</td>\n    </tr>\n    <tr>\n      <th>HGCN</th>\n      <td>77.8371(5.5047)</td>\n      <td>62.1525(1.1034)</td>\n      <td>70.8731(3.8934)</td>\n    </tr>\n    <tr>\n      <th>HGT</th>\n      <td>567.1390(18.0209)</td>\n      <td>882.5029(25.2861)</td>\n      <td>697.9369(3.6391)</td>\n    </tr>\n    <tr>\n      <th>RGCN</th>\n      <td>110.8464(1.9021)</td>\n      <td>222.0993(5.8718)</td>\n      <td>162.7710(11.0552)</td>\n    </tr>\n  </tbody>\n</table>\n</div>"
     },
     "execution_count": 20,
     "metadata": {},
     "output_type": "execute_result"
    }
   ],
   "source": [
    "final_rt"
   ]
  },
  {
   "cell_type": "code",
   "execution_count": 21,
   "id": "460701974178dc19",
   "metadata": {
    "collapsed": false,
    "ExecuteTime": {
     "end_time": "2024-01-26T12:49:40.314124Z",
     "start_time": "2024-01-26T12:49:40.246926Z"
    }
   },
   "outputs": [],
   "source": [
    "mean_rt = grouped_rt['runtime']['mean'].unstack()\n",
    "latex_rt = mean_rt.style.format(precision=1).to_latex(siunitx=True, hrules=True)"
   ]
  },
  {
   "cell_type": "code",
   "execution_count": 22,
   "id": "2c6399504dfb277c",
   "metadata": {
    "collapsed": false,
    "ExecuteTime": {
     "end_time": "2024-01-26T12:49:40.341213Z",
     "start_time": "2024-01-26T12:49:40.252078Z"
    }
   },
   "outputs": [],
   "source": [
    "with open(\"../tables/exp1_rt.tex\", \"w+\") as f:\n",
    "    f.write(latex_rt)"
   ]
  },
  {
   "cell_type": "code",
   "outputs": [],
   "source": [
    "df_model_size = pd.read_csv(\"model_size.csv\")[['model', 'dataset', 'Model size']]"
   ],
   "metadata": {
    "collapsed": false,
    "ExecuteTime": {
     "end_time": "2024-01-26T13:24:29.714833Z",
     "start_time": "2024-01-26T13:24:29.706937Z"
    }
   },
   "id": "574e5f718354bce7",
   "execution_count": 71
  },
  {
   "cell_type": "code",
   "outputs": [],
   "source": [
    "final_models_size = df_model_size.groupby(['model', 'dataset']).agg(['mean'])['Model size']['mean'].unstack()"
   ],
   "metadata": {
    "collapsed": false,
    "ExecuteTime": {
     "end_time": "2024-01-26T13:26:40.765952Z",
     "start_time": "2024-01-26T13:26:40.750589Z"
    }
   },
   "id": "245717e418732ef7",
   "execution_count": 79
  },
  {
   "cell_type": "code",
   "outputs": [],
   "source": [
    "latex_size = final_models_size.style.to_latex(siunitx=True, hrules=True)"
   ],
   "metadata": {
    "collapsed": false,
    "ExecuteTime": {
     "end_time": "2024-01-26T13:26:42.415498Z",
     "start_time": "2024-01-26T13:26:42.411902Z"
    }
   },
   "id": "8965a1e67ab3e24d",
   "execution_count": 80
  },
  {
   "cell_type": "code",
   "outputs": [],
   "source": [
    "with open(\"../tables/exp1_size.tex\", 'w+') as f:\n",
    "\tf.write(latex_size)"
   ],
   "metadata": {
    "collapsed": false,
    "ExecuteTime": {
     "end_time": "2024-01-26T13:27:29.288152Z",
     "start_time": "2024-01-26T13:27:29.276481Z"
    }
   },
   "id": "cdfdb069a4ccc953",
   "execution_count": 82
  },
  {
   "cell_type": "code",
   "outputs": [],
   "source": [],
   "metadata": {
    "collapsed": false
   },
   "id": "3c2661d4668b0588"
  }
 ],
 "metadata": {
  "kernelspec": {
   "display_name": "Python 3 (ipykernel)",
   "language": "python",
   "name": "python3"
  },
  "language_info": {
   "codemirror_mode": {
    "name": "ipython",
    "version": 3
   },
   "file_extension": ".py",
   "mimetype": "text/x-python",
   "name": "python",
   "nbconvert_exporter": "python",
   "pygments_lexer": "ipython3",
   "version": "3.11.4"
  }
 },
 "nbformat": 4,
 "nbformat_minor": 5
}
