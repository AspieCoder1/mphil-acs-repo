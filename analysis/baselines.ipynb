{
 "cells": [
  {
   "cell_type": "markdown",
   "id": "3868e1de7d0e1056",
   "metadata": {
    "collapsed": false,
    "jupyter": {
     "outputs_hidden": false
    }
   },
   "source": [
    "# Experiment 1: Baselines\n",
    "\n",
    "WANDB tag: `exp1`"
   ]
  },
  {
   "cell_type": "code",
   "execution_count": 1,
   "id": "b48e8ef0b1c2e7aa",
   "metadata": {
    "ExecuteTime": {
     "end_time": "2024-01-25T21:35:22.720907Z",
     "start_time": "2024-01-25T21:35:22.703764Z"
    },
    "collapsed": false,
    "jupyter": {
     "outputs_hidden": false
    }
   },
   "outputs": [],
   "source": [
    "import matplotlib.pyplot as plt\n",
    "import wandb\n",
    "import pandas as pd\n",
    "import seaborn as sns\n",
    "import matplotlib.pyplot as plt\n",
    "\n",
    "sns.set_style('whitegrid')\n",
    "sns.set_context('paper')"
   ]
  },
  {
   "cell_type": "code",
   "execution_count": 2,
   "id": "42876fd375ba115",
   "metadata": {
    "ExecuteTime": {
     "end_time": "2024-01-25T21:35:22.744890Z",
     "start_time": "2024-01-25T21:35:22.727819Z"
    },
    "collapsed": false,
    "jupyter": {
     "outputs_hidden": false
    }
   },
   "outputs": [],
   "source": [
    "api = wandb.Api(api_key=\"cc080145b244f97b7db093ba0e3de5088e7ee7aa\")"
   ]
  },
  {
   "cell_type": "code",
   "execution_count": 3,
   "id": "72403e3cbb46ec30",
   "metadata": {
    "ExecuteTime": {
     "end_time": "2024-01-25T21:35:22.924861Z",
     "start_time": "2024-01-25T21:35:22.736295Z"
    },
    "collapsed": false,
    "jupyter": {
     "outputs_hidden": false
    }
   },
   "outputs": [],
   "source": [
    "runs = api.runs(path=\"acs-thesis-lb2027/gnn-baselines\", include_sweeps=False, filters={\"$and\": [{\"tags\": {\"$in\": [\"exp1\"]}}, {\"state\": \"finished\"}, {\"config.model\": {\"$ne\":\"HGT\"}}]})"
   ]
  },
  {
   "cell_type": "code",
   "execution_count": 4,
   "id": "9beee5691793f352",
   "metadata": {
    "ExecuteTime": {
     "end_time": "2024-01-25T21:35:24.355544Z",
     "start_time": "2024-01-25T21:35:22.927418Z"
    },
    "collapsed": false,
    "jupyter": {
     "outputs_hidden": false
    }
   },
   "outputs": [],
   "source": [
    "rows = []\n",
    "\n",
    "for run in runs:\n",
    "\trow = {\n",
    "\t\t\"model\": run.config[\"model\"],\n",
    "\t\t\"dataset\": run.config[\"dataset\"],\n",
    "\t\t\"test_accuracy\": run.summary[\"test/accuracy\"]\n",
    "\t}\n",
    "\t\n",
    "\trows.append(row)"
   ]
  },
  {
   "cell_type": "code",
   "execution_count": 5,
   "id": "a441f2c72dd65929",
   "metadata": {
    "ExecuteTime": {
     "end_time": "2024-01-25T21:35:24.369658Z",
     "start_time": "2024-01-25T21:35:24.363133Z"
    },
    "collapsed": false,
    "jupyter": {
     "outputs_hidden": false
    }
   },
   "outputs": [],
   "source": [
    "df = pd.DataFrame(rows)"
   ]
  },
  {
   "cell_type": "code",
   "execution_count": 6,
   "id": "9aefdce59482237a",
   "metadata": {
    "ExecuteTime": {
     "end_time": "2024-01-25T21:35:24.387988Z",
     "start_time": "2024-01-25T21:35:24.375657Z"
    },
    "collapsed": false,
    "jupyter": {
     "outputs_hidden": false
    }
   },
   "outputs": [
    {
     "data": {
      "text/html": [
       "<div>\n",
       "<style scoped>\n",
       "    .dataframe tbody tr th:only-of-type {\n",
       "        vertical-align: middle;\n",
       "    }\n",
       "\n",
       "    .dataframe tbody tr th {\n",
       "        vertical-align: top;\n",
       "    }\n",
       "\n",
       "    .dataframe thead th {\n",
       "        text-align: right;\n",
       "    }\n",
       "</style>\n",
       "<table border=\"1\" class=\"dataframe\">\n",
       "  <thead>\n",
       "    <tr style=\"text-align: right;\">\n",
       "      <th></th>\n",
       "      <th>model</th>\n",
       "      <th>dataset</th>\n",
       "      <th>test_accuracy</th>\n",
       "    </tr>\n",
       "  </thead>\n",
       "  <tbody>\n",
       "    <tr>\n",
       "      <th>0</th>\n",
       "      <td>GAT</td>\n",
       "      <td>IMDB</td>\n",
       "      <td>0.7648</td>\n",
       "    </tr>\n",
       "    <tr>\n",
       "      <th>1</th>\n",
       "      <td>GAT</td>\n",
       "      <td>IMDB</td>\n",
       "      <td>0.7964</td>\n",
       "    </tr>\n",
       "    <tr>\n",
       "      <th>2</th>\n",
       "      <td>GAT</td>\n",
       "      <td>IMDB</td>\n",
       "      <td>0.7640</td>\n",
       "    </tr>\n",
       "    <tr>\n",
       "      <th>3</th>\n",
       "      <td>GAT</td>\n",
       "      <td>IMDB</td>\n",
       "      <td>0.8160</td>\n",
       "    </tr>\n",
       "    <tr>\n",
       "      <th>4</th>\n",
       "      <td>GAT</td>\n",
       "      <td>IMDB</td>\n",
       "      <td>0.8690</td>\n",
       "    </tr>\n",
       "    <tr>\n",
       "      <th>...</th>\n",
       "      <td>...</td>\n",
       "      <td>...</td>\n",
       "      <td>...</td>\n",
       "    </tr>\n",
       "    <tr>\n",
       "      <th>221</th>\n",
       "      <td>DiagSheaf</td>\n",
       "      <td>DBLP</td>\n",
       "      <td>0.9540</td>\n",
       "    </tr>\n",
       "    <tr>\n",
       "      <th>222</th>\n",
       "      <td>DiagSheaf</td>\n",
       "      <td>DBLP</td>\n",
       "      <td>0.9640</td>\n",
       "    </tr>\n",
       "    <tr>\n",
       "      <th>223</th>\n",
       "      <td>DiagSheaf</td>\n",
       "      <td>DBLP</td>\n",
       "      <td>0.9580</td>\n",
       "    </tr>\n",
       "    <tr>\n",
       "      <th>224</th>\n",
       "      <td>DiagSheaf</td>\n",
       "      <td>DBLP</td>\n",
       "      <td>0.9700</td>\n",
       "    </tr>\n",
       "    <tr>\n",
       "      <th>225</th>\n",
       "      <td>DiagSheaf</td>\n",
       "      <td>DBLP</td>\n",
       "      <td>0.9460</td>\n",
       "    </tr>\n",
       "  </tbody>\n",
       "</table>\n",
       "<p>226 rows × 3 columns</p>\n",
       "</div>"
      ],
      "text/plain": [
       "         model dataset  test_accuracy\n",
       "0          GAT    IMDB         0.7648\n",
       "1          GAT    IMDB         0.7964\n",
       "2          GAT    IMDB         0.7640\n",
       "3          GAT    IMDB         0.8160\n",
       "4          GAT    IMDB         0.8690\n",
       "..         ...     ...            ...\n",
       "221  DiagSheaf    DBLP         0.9540\n",
       "222  DiagSheaf    DBLP         0.9640\n",
       "223  DiagSheaf    DBLP         0.9580\n",
       "224  DiagSheaf    DBLP         0.9700\n",
       "225  DiagSheaf    DBLP         0.9460\n",
       "\n",
       "[226 rows x 3 columns]"
      ]
     },
     "execution_count": 6,
     "metadata": {},
     "output_type": "execute_result"
    }
   ],
   "source": [
    "df"
   ]
  },
  {
   "cell_type": "code",
   "execution_count": 7,
   "id": "f08b07965fb6810",
   "metadata": {
    "ExecuteTime": {
     "end_time": "2024-01-25T21:35:24.755681Z",
     "start_time": "2024-01-25T21:35:24.389528Z"
    },
    "collapsed": false,
    "jupyter": {
     "outputs_hidden": false
    }
   },
   "outputs": [
    {
     "data": {
      "text/plain": [
       "<Axes: xlabel='model', ylabel='test_accuracy'>"
      ]
     },
     "execution_count": 7,
     "metadata": {},
     "output_type": "execute_result"
    },
    {
     "data": {
      "image/png": "[encoded data removed]",
      "text/plain": [
       "<Figure size 1000x600 with 1 Axes>"
      ]
     },
     "metadata": {},
     "output_type": "display_data"
    }
   ],
   "source": [
    "fig = plt.figure(figsize=(10,6))\n",
    "\n",
    "ax = fig.add_subplot(111)\n",
    "\n",
    "sns.barplot(df, x=\"model\", y=\"test_accuracy\", hue=\"dataset\", ax=ax)"
   ]
  },
  {
   "cell_type": "code",
   "execution_count": 8,
   "id": "5740ae1190e92b29",
   "metadata": {
    "ExecuteTime": {
     "end_time": "2024-01-25T21:35:24.772319Z",
     "start_time": "2024-01-25T21:35:24.751297Z"
    },
    "collapsed": false,
    "jupyter": {
     "outputs_hidden": false
    }
   },
   "outputs": [
    {
     "data": {
      "text/html": [
       "<style type=\"text/css\">\n",
       "#T_76233_row4_col1, #T_76233_row6_col0, #T_76233_row7_col2 {\n",
       "  background-color: blue;\n",
       "}\n",
       "</style>\n",
       "<table id=\"T_76233\">\n",
       "  <thead>\n",
       "    <tr>\n",
       "      <th class=\"index_name level0\" >dataset</th>\n",
       "      <th id=\"T_76233_level0_col0\" class=\"col_heading level0 col0\" >ACM</th>\n",
       "      <th id=\"T_76233_level0_col1\" class=\"col_heading level0 col1\" >DBLP</th>\n",
       "      <th id=\"T_76233_level0_col2\" class=\"col_heading level0 col2\" >IMDB</th>\n",
       "    </tr>\n",
       "    <tr>\n",
       "      <th class=\"index_name level0\" >model</th>\n",
       "      <th class=\"blank col0\" >&nbsp;</th>\n",
       "      <th class=\"blank col1\" >&nbsp;</th>\n",
       "      <th class=\"blank col2\" >&nbsp;</th>\n",
       "    </tr>\n",
       "  </thead>\n",
       "  <tbody>\n",
       "    <tr>\n",
       "      <th id=\"T_76233_level0_row0\" class=\"row_heading level0 row0\" >BundleSheaf</th>\n",
       "      <td id=\"T_76233_row0_col0\" class=\"data row0 col0\" >0.950600</td>\n",
       "      <td id=\"T_76233_row0_col1\" class=\"data row0 col1\" >0.967200</td>\n",
       "      <td id=\"T_76233_row0_col2\" class=\"data row0 col2\" >0.918100</td>\n",
       "    </tr>\n",
       "    <tr>\n",
       "      <th id=\"T_76233_level0_row1\" class=\"row_heading level0 row1\" >DiagSheaf</th>\n",
       "      <td id=\"T_76233_row1_col0\" class=\"data row1 col0\" >0.945400</td>\n",
       "      <td id=\"T_76233_row1_col1\" class=\"data row1 col1\" >0.955300</td>\n",
       "      <td id=\"T_76233_row1_col2\" class=\"data row1 col2\" >0.919120</td>\n",
       "    </tr>\n",
       "    <tr>\n",
       "      <th id=\"T_76233_level0_row2\" class=\"row_heading level0 row2\" >GAT</th>\n",
       "      <td id=\"T_76233_row2_col0\" class=\"data row2 col0\" >nan</td>\n",
       "      <td id=\"T_76233_row2_col1\" class=\"data row2 col1\" >0.955111</td>\n",
       "      <td id=\"T_76233_row2_col2\" class=\"data row2 col2\" >0.810340</td>\n",
       "    </tr>\n",
       "    <tr>\n",
       "      <th id=\"T_76233_level0_row3\" class=\"row_heading level0 row3\" >GCN</th>\n",
       "      <td id=\"T_76233_row3_col0\" class=\"data row3 col0\" >0.904600</td>\n",
       "      <td id=\"T_76233_row3_col1\" class=\"data row3 col1\" >0.937000</td>\n",
       "      <td id=\"T_76233_row3_col2\" class=\"data row3 col2\" >0.912660</td>\n",
       "    </tr>\n",
       "    <tr>\n",
       "      <th id=\"T_76233_level0_row4\" class=\"row_heading level0 row4\" >GeneralSheaf</th>\n",
       "      <td id=\"T_76233_row4_col0\" class=\"data row4 col0\" >0.948500</td>\n",
       "      <td id=\"T_76233_row4_col1\" class=\"data row4 col1\" >0.973556</td>\n",
       "      <td id=\"T_76233_row4_col2\" class=\"data row4 col2\" >0.917900</td>\n",
       "    </tr>\n",
       "    <tr>\n",
       "      <th id=\"T_76233_level0_row5\" class=\"row_heading level0 row5\" >HAN</th>\n",
       "      <td id=\"T_76233_row5_col0\" class=\"data row5 col0\" >0.856500</td>\n",
       "      <td id=\"T_76233_row5_col1\" class=\"data row5 col1\" >0.945800</td>\n",
       "      <td id=\"T_76233_row5_col2\" class=\"data row5 col2\" >0.680120</td>\n",
       "    </tr>\n",
       "    <tr>\n",
       "      <th id=\"T_76233_level0_row6\" class=\"row_heading level0 row6\" >HGCN</th>\n",
       "      <td id=\"T_76233_row6_col0\" class=\"data row6 col0\" >0.958500</td>\n",
       "      <td id=\"T_76233_row6_col1\" class=\"data row6 col1\" >0.957000</td>\n",
       "      <td id=\"T_76233_row6_col2\" class=\"data row6 col2\" >0.914080</td>\n",
       "    </tr>\n",
       "    <tr>\n",
       "      <th id=\"T_76233_level0_row7\" class=\"row_heading level0 row7\" >RGCN</th>\n",
       "      <td id=\"T_76233_row7_col0\" class=\"data row7 col0\" >0.956800</td>\n",
       "      <td id=\"T_76233_row7_col1\" class=\"data row7 col1\" >0.969600</td>\n",
       "      <td id=\"T_76233_row7_col2\" class=\"data row7 col2\" >0.930500</td>\n",
       "    </tr>\n",
       "  </tbody>\n",
       "</table>\n"
      ],
      "text/plain": [
       "<pandas.io.formats.style.Styler at 0x157a4da90>"
      ]
     },
     "execution_count": 8,
     "metadata": {},
     "output_type": "execute_result"
    }
   ],
   "source": [
    "grouped = df.groupby([\"model\", \"dataset\"]).agg([\"mean\", \"std\", \"max\"])\n",
    "grouped_mean = grouped[\"test_accuracy\"][\"mean\"].unstack()\n",
    "grouped_mean.style.highlight_max(color='blue')"
   ]
  },
  {
   "cell_type": "code",
   "execution_count": 9,
   "id": "b4acf79dcd85fbc0",
   "metadata": {
    "ExecuteTime": {
     "end_time": "2024-01-25T21:35:24.832724Z",
     "start_time": "2024-01-25T21:35:24.775050Z"
    },
    "collapsed": false,
    "jupyter": {
     "outputs_hidden": false
    }
   },
   "outputs": [
    {
     "data": {
      "text/html": [
       "<style type=\"text/css\">\n",
       "#T_25888_row4_col1, #T_25888_row6_col0, #T_25888_row7_col1, #T_25888_row7_col2 {\n",
       "  background-color: blue;\n",
       "}\n",
       "</style>\n",
       "<table id=\"T_25888\">\n",
       "  <thead>\n",
       "    <tr>\n",
       "      <th class=\"index_name level0\" >dataset</th>\n",
       "      <th id=\"T_25888_level0_col0\" class=\"col_heading level0 col0\" >ACM</th>\n",
       "      <th id=\"T_25888_level0_col1\" class=\"col_heading level0 col1\" >DBLP</th>\n",
       "      <th id=\"T_25888_level0_col2\" class=\"col_heading level0 col2\" >IMDB</th>\n",
       "    </tr>\n",
       "    <tr>\n",
       "      <th class=\"index_name level0\" >model</th>\n",
       "      <th class=\"blank col0\" >&nbsp;</th>\n",
       "      <th class=\"blank col1\" >&nbsp;</th>\n",
       "      <th class=\"blank col2\" >&nbsp;</th>\n",
       "    </tr>\n",
       "  </thead>\n",
       "  <tbody>\n",
       "    <tr>\n",
       "      <th id=\"T_25888_level0_row0\" class=\"row_heading level0 row0\" >BundleSheaf</th>\n",
       "      <td id=\"T_25888_row0_col0\" class=\"data row0 col0\" >0.961000</td>\n",
       "      <td id=\"T_25888_row0_col1\" class=\"data row0 col1\" >0.975000</td>\n",
       "      <td id=\"T_25888_row0_col2\" class=\"data row0 col2\" >0.929400</td>\n",
       "    </tr>\n",
       "    <tr>\n",
       "      <th id=\"T_25888_level0_row1\" class=\"row_heading level0 row1\" >DiagSheaf</th>\n",
       "      <td id=\"T_25888_row1_col0\" class=\"data row1 col0\" >0.951000</td>\n",
       "      <td id=\"T_25888_row1_col1\" class=\"data row1 col1\" >0.970000</td>\n",
       "      <td id=\"T_25888_row1_col2\" class=\"data row1 col2\" >0.925800</td>\n",
       "    </tr>\n",
       "    <tr>\n",
       "      <th id=\"T_25888_level0_row2\" class=\"row_heading level0 row2\" >GAT</th>\n",
       "      <td id=\"T_25888_row2_col0\" class=\"data row2 col0\" >nan</td>\n",
       "      <td id=\"T_25888_row2_col1\" class=\"data row2 col1\" >0.976000</td>\n",
       "      <td id=\"T_25888_row2_col2\" class=\"data row2 col2\" >0.871400</td>\n",
       "    </tr>\n",
       "    <tr>\n",
       "      <th id=\"T_25888_level0_row3\" class=\"row_heading level0 row3\" >GCN</th>\n",
       "      <td id=\"T_25888_row3_col0\" class=\"data row3 col0\" >0.930000</td>\n",
       "      <td id=\"T_25888_row3_col1\" class=\"data row3 col1\" >0.947000</td>\n",
       "      <td id=\"T_25888_row3_col2\" class=\"data row3 col2\" >0.924400</td>\n",
       "    </tr>\n",
       "    <tr>\n",
       "      <th id=\"T_25888_level0_row4\" class=\"row_heading level0 row4\" >GeneralSheaf</th>\n",
       "      <td id=\"T_25888_row4_col0\" class=\"data row4 col0\" >0.955000</td>\n",
       "      <td id=\"T_25888_row4_col1\" class=\"data row4 col1\" >0.981000</td>\n",
       "      <td id=\"T_25888_row4_col2\" class=\"data row4 col2\" >0.926400</td>\n",
       "    </tr>\n",
       "    <tr>\n",
       "      <th id=\"T_25888_level0_row5\" class=\"row_heading level0 row5\" >HAN</th>\n",
       "      <td id=\"T_25888_row5_col0\" class=\"data row5 col0\" >0.952000</td>\n",
       "      <td id=\"T_25888_row5_col1\" class=\"data row5 col1\" >0.955000</td>\n",
       "      <td id=\"T_25888_row5_col2\" class=\"data row5 col2\" >0.691000</td>\n",
       "    </tr>\n",
       "    <tr>\n",
       "      <th id=\"T_25888_level0_row6\" class=\"row_heading level0 row6\" >HGCN</th>\n",
       "      <td id=\"T_25888_row6_col0\" class=\"data row6 col0\" >0.969000</td>\n",
       "      <td id=\"T_25888_row6_col1\" class=\"data row6 col1\" >0.964000</td>\n",
       "      <td id=\"T_25888_row6_col2\" class=\"data row6 col2\" >0.924600</td>\n",
       "    </tr>\n",
       "    <tr>\n",
       "      <th id=\"T_25888_level0_row7\" class=\"row_heading level0 row7\" >RGCN</th>\n",
       "      <td id=\"T_25888_row7_col0\" class=\"data row7 col0\" >0.967000</td>\n",
       "      <td id=\"T_25888_row7_col1\" class=\"data row7 col1\" >0.981000</td>\n",
       "      <td id=\"T_25888_row7_col2\" class=\"data row7 col2\" >0.936600</td>\n",
       "    </tr>\n",
       "  </tbody>\n",
       "</table>\n"
      ],
      "text/plain": [
       "<pandas.io.formats.style.Styler at 0x157a72d10>"
      ]
     },
     "execution_count": 9,
     "metadata": {},
     "output_type": "execute_result"
    }
   ],
   "source": [
    "grouped_max = grouped[\"test_accuracy\"][\"max\"].unstack()\n",
    "grouped_max.style.highlight_max(color='blue')"
   ]
  },
  {
   "cell_type": "code",
   "execution_count": null,
   "id": "f961bedfd530a360",
   "metadata": {
    "ExecuteTime": {
     "end_time": "2024-01-25T21:35:24.832931Z",
     "start_time": "2024-01-25T21:35:24.779645Z"
    },
    "collapsed": false,
    "jupyter": {
     "outputs_hidden": false
    }
   },
   "outputs": [],
   "source": []
  }
 ],
 "metadata": {
  "kernelspec": {
   "display_name": "Python 3 (ipykernel)",
   "language": "python",
   "name": "python3"
  },
  "language_info": {
   "codemirror_mode": {
    "name": "ipython",
    "version": 3
   },
   "file_extension": ".py",
   "mimetype": "text/x-python",
   "name": "python",
   "nbconvert_exporter": "python",
   "pygments_lexer": "ipython3",
   "version": "3.11.4"
  }
 },
 "nbformat": 4,
 "nbformat_minor": 5
}
